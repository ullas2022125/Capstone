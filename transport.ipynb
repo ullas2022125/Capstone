{
 "cells": [
  {
   "cell_type": "markdown",
   "id": "5285590e",
   "metadata": {},
   "source": [
    "# Starting with comparitive analysis and all main functions"
   ]
  },
  {
   "cell_type": "code",
   "execution_count": 1,
   "id": "fe830ae4",
   "metadata": {},
   "outputs": [],
   "source": [
    "# Import necessary libraries\n",
    "import pandas as pd\n",
    "import numpy as np\n",
    "from sklearn.model_selection import train_test_split\n",
    "from sklearn.linear_model import LinearRegression\n",
    "from sklearn.metrics import mean_squared_error\n",
    "from sklearn.preprocessing import StandardScaler, MinMaxScaler\n",
    "from sklearn.model_selection import train_test_split\n",
    "from sklearn.ensemble import RandomForestRegressor\n",
    "from sklearn.preprocessing import LabelEncoder\n",
    "from sklearn.metrics import mean_squared_error, r2_score"
   ]
  },
  {
   "cell_type": "code",
   "execution_count": 2,
   "id": "54ca9d79",
   "metadata": {},
   "outputs": [],
   "source": [
    "# Load datasets\n",
    "demand_data = pd.read_csv(\"D:/Ullas/MSc Data Analytics Capstone Project/Datasets/Passenger Journeys by Public Transport.csv\")\n",
    "demographic_data = pd.read_csv(\"D:/Ullas/MSc Data Analytics Capstone Project/Datasets/Demographic.csv\")\n",
    "weather_data = pd.read_csv(\"D:/Ullas/MSc Data Analytics Capstone Project/Datasets/weather.csv\")"
   ]
  },
  {
   "cell_type": "code",
   "execution_count": 3,
   "id": "74d80f2f",
   "metadata": {},
   "outputs": [
    {
     "data": {
      "text/html": [
       "<div>\n",
       "<style scoped>\n",
       "    .dataframe tbody tr th:only-of-type {\n",
       "        vertical-align: middle;\n",
       "    }\n",
       "\n",
       "    .dataframe tbody tr th {\n",
       "        vertical-align: top;\n",
       "    }\n",
       "\n",
       "    .dataframe thead th {\n",
       "        text-align: right;\n",
       "    }\n",
       "</style>\n",
       "<table border=\"1\" class=\"dataframe\">\n",
       "  <thead>\n",
       "    <tr style=\"text-align: right;\">\n",
       "      <th></th>\n",
       "      <th>STATISTIC</th>\n",
       "      <th>Statistic Label</th>\n",
       "      <th>TLIST(A1)</th>\n",
       "      <th>Year</th>\n",
       "      <th>C03935V04687</th>\n",
       "      <th>Mode of Transport</th>\n",
       "      <th>C01198V01436</th>\n",
       "      <th>Weeks of the year</th>\n",
       "      <th>UNIT</th>\n",
       "      <th>VALUE</th>\n",
       "    </tr>\n",
       "  </thead>\n",
       "  <tbody>\n",
       "    <tr>\n",
       "      <th>0</th>\n",
       "      <td>THA24C01</td>\n",
       "      <td>Passenger Journeys</td>\n",
       "      <td>2019</td>\n",
       "      <td>2019</td>\n",
       "      <td>10</td>\n",
       "      <td>Dublin Metro Bus</td>\n",
       "      <td>1</td>\n",
       "      <td>Week 01</td>\n",
       "      <td>Number</td>\n",
       "      <td>1987891.0</td>\n",
       "    </tr>\n",
       "    <tr>\n",
       "      <th>1</th>\n",
       "      <td>THA24C01</td>\n",
       "      <td>Passenger Journeys</td>\n",
       "      <td>2019</td>\n",
       "      <td>2019</td>\n",
       "      <td>10</td>\n",
       "      <td>Dublin Metro Bus</td>\n",
       "      <td>2</td>\n",
       "      <td>Week 02</td>\n",
       "      <td>Number</td>\n",
       "      <td>2709579.0</td>\n",
       "    </tr>\n",
       "    <tr>\n",
       "      <th>2</th>\n",
       "      <td>THA24C01</td>\n",
       "      <td>Passenger Journeys</td>\n",
       "      <td>2019</td>\n",
       "      <td>2019</td>\n",
       "      <td>10</td>\n",
       "      <td>Dublin Metro Bus</td>\n",
       "      <td>3</td>\n",
       "      <td>Week 03</td>\n",
       "      <td>Number</td>\n",
       "      <td>2784678.0</td>\n",
       "    </tr>\n",
       "    <tr>\n",
       "      <th>3</th>\n",
       "      <td>THA24C01</td>\n",
       "      <td>Passenger Journeys</td>\n",
       "      <td>2019</td>\n",
       "      <td>2019</td>\n",
       "      <td>10</td>\n",
       "      <td>Dublin Metro Bus</td>\n",
       "      <td>4</td>\n",
       "      <td>Week 04</td>\n",
       "      <td>Number</td>\n",
       "      <td>2858346.0</td>\n",
       "    </tr>\n",
       "    <tr>\n",
       "      <th>4</th>\n",
       "      <td>THA24C01</td>\n",
       "      <td>Passenger Journeys</td>\n",
       "      <td>2019</td>\n",
       "      <td>2019</td>\n",
       "      <td>10</td>\n",
       "      <td>Dublin Metro Bus</td>\n",
       "      <td>5</td>\n",
       "      <td>Week 05</td>\n",
       "      <td>Number</td>\n",
       "      <td>2924821.0</td>\n",
       "    </tr>\n",
       "  </tbody>\n",
       "</table>\n",
       "</div>"
      ],
      "text/plain": [
       "  STATISTIC     Statistic Label  TLIST(A1)  Year  C03935V04687  \\\n",
       "0  THA24C01  Passenger Journeys       2019  2019            10   \n",
       "1  THA24C01  Passenger Journeys       2019  2019            10   \n",
       "2  THA24C01  Passenger Journeys       2019  2019            10   \n",
       "3  THA24C01  Passenger Journeys       2019  2019            10   \n",
       "4  THA24C01  Passenger Journeys       2019  2019            10   \n",
       "\n",
       "  Mode of Transport  C01198V01436 Weeks of the year    UNIT      VALUE  \n",
       "0  Dublin Metro Bus             1           Week 01  Number  1987891.0  \n",
       "1  Dublin Metro Bus             2           Week 02  Number  2709579.0  \n",
       "2  Dublin Metro Bus             3           Week 03  Number  2784678.0  \n",
       "3  Dublin Metro Bus             4           Week 04  Number  2858346.0  \n",
       "4  Dublin Metro Bus             5           Week 05  Number  2924821.0  "
      ]
     },
     "execution_count": 3,
     "metadata": {},
     "output_type": "execute_result"
    }
   ],
   "source": [
    "demand_data.head()"
   ]
  },
  {
   "cell_type": "code",
   "execution_count": 4,
   "id": "bad41f8b",
   "metadata": {},
   "outputs": [
    {
     "data": {
      "text/html": [
       "<div>\n",
       "<style scoped>\n",
       "    .dataframe tbody tr th:only-of-type {\n",
       "        vertical-align: middle;\n",
       "    }\n",
       "\n",
       "    .dataframe tbody tr th {\n",
       "        vertical-align: top;\n",
       "    }\n",
       "\n",
       "    .dataframe thead th {\n",
       "        text-align: right;\n",
       "    }\n",
       "</style>\n",
       "<table border=\"1\" class=\"dataframe\">\n",
       "  <thead>\n",
       "    <tr style=\"text-align: right;\">\n",
       "      <th></th>\n",
       "      <th>STATISTIC</th>\n",
       "      <th>Statistic Label</th>\n",
       "      <th>TLIST(A1)</th>\n",
       "      <th>Year</th>\n",
       "      <th>C02199V02655</th>\n",
       "      <th>Sex</th>\n",
       "      <th>C02076V02508</th>\n",
       "      <th>Age Group</th>\n",
       "      <th>UNIT</th>\n",
       "      <th>VALUE</th>\n",
       "    </tr>\n",
       "  </thead>\n",
       "  <tbody>\n",
       "    <tr>\n",
       "      <th>0</th>\n",
       "      <td>NTA105C01</td>\n",
       "      <td>Frequency of use of bus services - Weekly or m...</td>\n",
       "      <td>2021</td>\n",
       "      <td>2021</td>\n",
       "      <td>1</td>\n",
       "      <td>Male</td>\n",
       "      <td>350</td>\n",
       "      <td>18 - 24 years</td>\n",
       "      <td>%</td>\n",
       "      <td>NaN</td>\n",
       "    </tr>\n",
       "    <tr>\n",
       "      <th>1</th>\n",
       "      <td>NTA105C01</td>\n",
       "      <td>Frequency of use of bus services - Weekly or m...</td>\n",
       "      <td>2021</td>\n",
       "      <td>2021</td>\n",
       "      <td>1</td>\n",
       "      <td>Male</td>\n",
       "      <td>415</td>\n",
       "      <td>25 - 34 years</td>\n",
       "      <td>%</td>\n",
       "      <td>19.0</td>\n",
       "    </tr>\n",
       "    <tr>\n",
       "      <th>2</th>\n",
       "      <td>NTA105C01</td>\n",
       "      <td>Frequency of use of bus services - Weekly or m...</td>\n",
       "      <td>2021</td>\n",
       "      <td>2021</td>\n",
       "      <td>1</td>\n",
       "      <td>Male</td>\n",
       "      <td>465</td>\n",
       "      <td>35 - 44 years</td>\n",
       "      <td>%</td>\n",
       "      <td>10.0</td>\n",
       "    </tr>\n",
       "    <tr>\n",
       "      <th>3</th>\n",
       "      <td>NTA105C01</td>\n",
       "      <td>Frequency of use of bus services - Weekly or m...</td>\n",
       "      <td>2021</td>\n",
       "      <td>2021</td>\n",
       "      <td>1</td>\n",
       "      <td>Male</td>\n",
       "      <td>500</td>\n",
       "      <td>45 - 54 years</td>\n",
       "      <td>%</td>\n",
       "      <td>9.0</td>\n",
       "    </tr>\n",
       "    <tr>\n",
       "      <th>4</th>\n",
       "      <td>NTA105C01</td>\n",
       "      <td>Frequency of use of bus services - Weekly or m...</td>\n",
       "      <td>2021</td>\n",
       "      <td>2021</td>\n",
       "      <td>1</td>\n",
       "      <td>Male</td>\n",
       "      <td>535</td>\n",
       "      <td>55 - 64 years</td>\n",
       "      <td>%</td>\n",
       "      <td>7.0</td>\n",
       "    </tr>\n",
       "  </tbody>\n",
       "</table>\n",
       "</div>"
      ],
      "text/plain": [
       "   STATISTIC                                    Statistic Label  TLIST(A1)  \\\n",
       "0  NTA105C01  Frequency of use of bus services - Weekly or m...       2021   \n",
       "1  NTA105C01  Frequency of use of bus services - Weekly or m...       2021   \n",
       "2  NTA105C01  Frequency of use of bus services - Weekly or m...       2021   \n",
       "3  NTA105C01  Frequency of use of bus services - Weekly or m...       2021   \n",
       "4  NTA105C01  Frequency of use of bus services - Weekly or m...       2021   \n",
       "\n",
       "   Year  C02199V02655   Sex  C02076V02508      Age Group UNIT  VALUE  \n",
       "0  2021             1  Male           350  18 - 24 years    %    NaN  \n",
       "1  2021             1  Male           415  25 - 34 years    %   19.0  \n",
       "2  2021             1  Male           465  35 - 44 years    %   10.0  \n",
       "3  2021             1  Male           500  45 - 54 years    %    9.0  \n",
       "4  2021             1  Male           535  55 - 64 years    %    7.0  "
      ]
     },
     "execution_count": 4,
     "metadata": {},
     "output_type": "execute_result"
    }
   ],
   "source": [
    "demographic_data.head()"
   ]
  },
  {
   "cell_type": "code",
   "execution_count": 5,
   "id": "8d191a28",
   "metadata": {},
   "outputs": [
    {
     "data": {
      "text/html": [
       "<div>\n",
       "<style scoped>\n",
       "    .dataframe tbody tr th:only-of-type {\n",
       "        vertical-align: middle;\n",
       "    }\n",
       "\n",
       "    .dataframe tbody tr th {\n",
       "        vertical-align: top;\n",
       "    }\n",
       "\n",
       "    .dataframe thead th {\n",
       "        text-align: right;\n",
       "    }\n",
       "</style>\n",
       "<table border=\"1\" class=\"dataframe\">\n",
       "  <thead>\n",
       "    <tr style=\"text-align: right;\">\n",
       "      <th></th>\n",
       "      <th>date</th>\n",
       "      <th>ind</th>\n",
       "      <th>rain</th>\n",
       "      <th>ind.1</th>\n",
       "      <th>maxt</th>\n",
       "      <th>ind.2</th>\n",
       "      <th>mint</th>\n",
       "      <th>gmin</th>\n",
       "      <th>soil</th>\n",
       "    </tr>\n",
       "  </thead>\n",
       "  <tbody>\n",
       "    <tr>\n",
       "      <th>0</th>\n",
       "      <td>01-Jan-41</td>\n",
       "      <td>0</td>\n",
       "      <td>2.4</td>\n",
       "      <td></td>\n",
       "      <td></td>\n",
       "      <td></td>\n",
       "      <td></td>\n",
       "      <td></td>\n",
       "      <td></td>\n",
       "    </tr>\n",
       "    <tr>\n",
       "      <th>1</th>\n",
       "      <td>02-Jan-41</td>\n",
       "      <td>0</td>\n",
       "      <td>0.9</td>\n",
       "      <td></td>\n",
       "      <td></td>\n",
       "      <td></td>\n",
       "      <td></td>\n",
       "      <td></td>\n",
       "      <td></td>\n",
       "    </tr>\n",
       "    <tr>\n",
       "      <th>2</th>\n",
       "      <td>03-Jan-41</td>\n",
       "      <td>0</td>\n",
       "      <td>0.0</td>\n",
       "      <td></td>\n",
       "      <td></td>\n",
       "      <td></td>\n",
       "      <td></td>\n",
       "      <td></td>\n",
       "      <td></td>\n",
       "    </tr>\n",
       "    <tr>\n",
       "      <th>3</th>\n",
       "      <td>04-Jan-41</td>\n",
       "      <td>0</td>\n",
       "      <td>0.0</td>\n",
       "      <td></td>\n",
       "      <td></td>\n",
       "      <td></td>\n",
       "      <td></td>\n",
       "      <td></td>\n",
       "      <td></td>\n",
       "    </tr>\n",
       "    <tr>\n",
       "      <th>4</th>\n",
       "      <td>05-Jan-41</td>\n",
       "      <td>0</td>\n",
       "      <td>0.0</td>\n",
       "      <td></td>\n",
       "      <td></td>\n",
       "      <td></td>\n",
       "      <td></td>\n",
       "      <td></td>\n",
       "      <td></td>\n",
       "    </tr>\n",
       "  </tbody>\n",
       "</table>\n",
       "</div>"
      ],
      "text/plain": [
       "        date  ind  rain ind.1 maxt ind.2 mint gmin soil\n",
       "0  01-Jan-41    0   2.4                                \n",
       "1  02-Jan-41    0   0.9                                \n",
       "2  03-Jan-41    0   0.0                                \n",
       "3  04-Jan-41    0   0.0                                \n",
       "4  05-Jan-41    0   0.0                                "
      ]
     },
     "execution_count": 5,
     "metadata": {},
     "output_type": "execute_result"
    }
   ],
   "source": [
    "weather_data.head()"
   ]
  },
  {
   "cell_type": "code",
   "execution_count": 6,
   "id": "cdfe7452",
   "metadata": {},
   "outputs": [
    {
     "name": "stdout",
     "output_type": "stream",
     "text": [
      "Demand Data Info:\n",
      "<class 'pandas.core.frame.DataFrame'>\n",
      "RangeIndex: 1060 entries, 0 to 1059\n",
      "Data columns (total 10 columns):\n",
      " #   Column             Non-Null Count  Dtype  \n",
      "---  ------             --------------  -----  \n",
      " 0   STATISTIC          1060 non-null   object \n",
      " 1   Statistic Label    1060 non-null   object \n",
      " 2   TLIST(A1)          1060 non-null   int64  \n",
      " 3   Year               1060 non-null   int64  \n",
      " 4   C03935V04687       1060 non-null   int64  \n",
      " 5   Mode of Transport  1060 non-null   object \n",
      " 6   C01198V01436       1060 non-null   int64  \n",
      " 7   Weeks of the year  1060 non-null   object \n",
      " 8   UNIT               1060 non-null   object \n",
      " 9   VALUE              868 non-null    float64\n",
      "dtypes: float64(1), int64(4), object(5)\n",
      "memory usage: 82.9+ KB\n",
      "None\n",
      "\n",
      "Demographic Data Info:\n",
      "<class 'pandas.core.frame.DataFrame'>\n",
      "RangeIndex: 112 entries, 0 to 111\n",
      "Data columns (total 10 columns):\n",
      " #   Column           Non-Null Count  Dtype  \n",
      "---  ------           --------------  -----  \n",
      " 0   STATISTIC        112 non-null    object \n",
      " 1   Statistic Label  112 non-null    object \n",
      " 2   TLIST(A1)        112 non-null    int64  \n",
      " 3   Year             112 non-null    int64  \n",
      " 4   C02199V02655     112 non-null    int64  \n",
      " 5   Sex              112 non-null    object \n",
      " 6   C02076V02508     112 non-null    int64  \n",
      " 7   Age Group        112 non-null    object \n",
      " 8   UNIT             112 non-null    object \n",
      " 9   VALUE            96 non-null     float64\n",
      "dtypes: float64(1), int64(4), object(5)\n",
      "memory usage: 8.9+ KB\n",
      "None\n",
      "\n",
      "Weather Data Info:\n",
      "<class 'pandas.core.frame.DataFrame'>\n",
      "RangeIndex: 38039 entries, 0 to 38038\n",
      "Data columns (total 9 columns):\n",
      " #   Column  Non-Null Count  Dtype  \n",
      "---  ------  --------------  -----  \n",
      " 0   date    38039 non-null  object \n",
      " 1   ind     38039 non-null  int64  \n",
      " 2   rain    38039 non-null  float64\n",
      " 3   ind.1   38039 non-null  object \n",
      " 4   maxt    38039 non-null  object \n",
      " 5   ind.2   38039 non-null  object \n",
      " 6   mint    38039 non-null  object \n",
      " 7   gmin    38039 non-null  object \n",
      " 8   soil    38039 non-null  object \n",
      "dtypes: float64(1), int64(1), object(7)\n",
      "memory usage: 2.6+ MB\n",
      "None\n",
      "\n",
      "Demand Data Summary Statistics:\n",
      "         TLIST(A1)         Year  C03935V04687  C01198V01436         VALUE\n",
      "count  1060.000000  1060.000000   1060.000000   1060.000000  8.680000e+02\n",
      "mean   2021.000000  2021.000000     25.000000     27.000000  1.665662e+06\n",
      "std       1.414881     1.414881     11.185617     15.304279  1.367626e+06\n",
      "min    2019.000000  2019.000000     10.000000      1.000000  2.323100e+04\n",
      "25%    2020.000000  2020.000000     17.500000     14.000000  5.799855e+05\n",
      "50%    2021.000000  2021.000000     25.000000     27.000000  9.101360e+05\n",
      "75%    2022.000000  2022.000000     32.500000     40.000000  2.875604e+06\n",
      "max    2023.000000  2023.000000     40.000000     53.000000  5.075079e+06\n",
      "\n",
      "Demographic Data Summary Statistics:\n",
      "       TLIST(A1)    Year  C02199V02655  C02076V02508      VALUE\n",
      "count      112.0   112.0    112.000000    112.000000  96.000000\n",
      "mean      2021.0  2021.0      1.500000    491.428571  28.593750\n",
      "std          0.0     0.0      0.502247     82.820300  21.986397\n",
      "min       2021.0  2021.0      1.000000    350.000000   2.000000\n",
      "25%       2021.0  2021.0      1.000000    415.000000  10.000000\n",
      "50%       2021.0  2021.0      1.500000    500.000000  21.500000\n",
      "75%       2021.0  2021.0      2.000000    570.000000  45.750000\n",
      "max       2021.0  2021.0      2.000000    605.000000  73.000000\n",
      "\n",
      "Weather Data Summary Statistics:\n",
      "                ind          rain\n",
      "count  38039.000000  38039.000000\n",
      "mean       0.385552      2.000371\n",
      "std        1.176110      4.233065\n",
      "min        0.000000      0.000000\n",
      "25%        0.000000      0.000000\n",
      "50%        0.000000      0.200000\n",
      "75%        0.000000      2.100000\n",
      "max        5.000000     86.700000\n"
     ]
    }
   ],
   "source": [
    "# Displaying basic information about the datasets\n",
    "print(\"Demand Data Info:\")\n",
    "print(demand_data.info())\n",
    "\n",
    "print(\"\\nDemographic Data Info:\")\n",
    "print(demographic_data.info())\n",
    "\n",
    "print(\"\\nWeather Data Info:\")\n",
    "print(weather_data.info())\n",
    "\n",
    "# Summary statistics\n",
    "print(\"\\nDemand Data Summary Statistics:\")\n",
    "print(demand_data.describe())\n",
    "\n",
    "print(\"\\nDemographic Data Summary Statistics:\")\n",
    "print(demographic_data.describe())\n",
    "\n",
    "print(\"\\nWeather Data Summary Statistics:\")\n",
    "print(weather_data.describe())"
   ]
  },
  {
   "cell_type": "code",
   "execution_count": 7,
   "id": "254087fe",
   "metadata": {},
   "outputs": [
    {
     "data": {
      "text/plain": [
       "Index(['STATISTIC', 'Statistic Label', 'TLIST(A1)', 'Year', 'C03935V04687',\n",
       "       'Mode of Transport', 'C01198V01436', 'Weeks of the year', 'UNIT',\n",
       "       'VALUE'],\n",
       "      dtype='object')"
      ]
     },
     "execution_count": 7,
     "metadata": {},
     "output_type": "execute_result"
    }
   ],
   "source": [
    "demand_data.columns"
   ]
  },
  {
   "cell_type": "code",
   "execution_count": 8,
   "id": "d497da63",
   "metadata": {},
   "outputs": [
    {
     "data": {
      "text/plain": [
       "Index(['STATISTIC', 'Statistic Label', 'TLIST(A1)', 'Year', 'C02199V02655',\n",
       "       'Sex', 'C02076V02508', 'Age Group', 'UNIT', 'VALUE'],\n",
       "      dtype='object')"
      ]
     },
     "execution_count": 8,
     "metadata": {},
     "output_type": "execute_result"
    }
   ],
   "source": [
    "demographic_data.columns"
   ]
  },
  {
   "cell_type": "code",
   "execution_count": 9,
   "id": "e6f7d856",
   "metadata": {},
   "outputs": [
    {
     "data": {
      "text/plain": [
       "Index(['date', 'ind', 'rain', 'ind.1', 'maxt', 'ind.2', 'mint', 'gmin',\n",
       "       'soil'],\n",
       "      dtype='object')"
      ]
     },
     "execution_count": 9,
     "metadata": {},
     "output_type": "execute_result"
    }
   ],
   "source": [
    "weather_data.columns"
   ]
  },
  {
   "cell_type": "markdown",
   "id": "c8d8857c",
   "metadata": {},
   "source": [
    "# Preparing the first dataset: demand_data"
   ]
  },
  {
   "cell_type": "code",
   "execution_count": null,
   "id": "e46e7d3a",
   "metadata": {},
   "outputs": [],
   "source": []
  },
  {
   "cell_type": "code",
   "execution_count": 10,
   "id": "f41c3a6a",
   "metadata": {},
   "outputs": [],
   "source": [
    "# Renaming columns\n",
    "demand_data.rename(columns={'Weeks of the year': 'Weeks', 'VALUE': 'Demand'}, inplace=True)"
   ]
  },
  {
   "cell_type": "code",
   "execution_count": 11,
   "id": "3bc8100d",
   "metadata": {},
   "outputs": [],
   "source": [
    "demand_data.drop(['STATISTIC','TLIST(A1)','UNIT'], axis = 1, inplace = True)"
   ]
  },
  {
   "cell_type": "code",
   "execution_count": 12,
   "id": "a6d62c62",
   "metadata": {},
   "outputs": [],
   "source": [
    "#converting year and weeks columns to date column \n",
    "demand_data['Date'] = demand_data['Year'].astype(str) + '-W' + demand_data['Weeks'].str.slice(start=5).astype(int).apply(lambda x: f'{x:02}')\n",
    "demand_data['Date'] = pd.to_datetime(demand_data['Date'] + '-1', format='%Y-W%U-%w')\n",
    "demand_data['Date'] = demand_data['Date'].dt.strftime('%d/%m/%Y')"
   ]
  },
  {
   "cell_type": "code",
   "execution_count": 13,
   "id": "b036f51f",
   "metadata": {},
   "outputs": [
    {
     "name": "stderr",
     "output_type": "stream",
     "text": [
      "C:\\Users\\ullas\\AppData\\Local\\Temp\\ipykernel_19568\\1374923223.py:14: UserWarning: Parsing dates in DD/MM/YYYY format when dayfirst=False (the default) was specified. This may lead to inconsistently parsed dates! Specify a format to ensure consistent parsing.\n",
      "  demand_data['Date'] = pd.to_datetime(demand_data['Date'])\n"
     ]
    }
   ],
   "source": [
    "desired_order = ['Year', 'Weeks', 'Date', 'Mode of Transport', 'Statistic Label', 'Demand', 'C03935V04687', 'C01198V01436']\n",
    "\n",
    "demand_data = demand_data.reindex(columns=desired_order)\n",
    "\n",
    "#Dealing with the missing values on the dataset\n",
    "demand_data.interpolate(method='linear', inplace=True)\n",
    "\n",
    "#formating the Deamnd column to make it more simpler \n",
    "demand_data['Demand'] = demand_data['Demand'].apply(lambda x: \"{:,.0f}\".format(x))\n",
    "\n",
    "# remove commas on Demand\n",
    "demand_data['Demand'] = demand_data['Demand'].str.replace(',', '').astype(int)\n",
    "# Convert Date column to datetime\n",
    "demand_data['Date'] = pd.to_datetime(demand_data['Date'])"
   ]
  },
  {
   "cell_type": "code",
   "execution_count": 14,
   "id": "98b562f3",
   "metadata": {},
   "outputs": [],
   "source": [
    "demand_data.drop(['C03935V04687','C01198V01436'], axis = 1, inplace = True)"
   ]
  },
  {
   "cell_type": "code",
   "execution_count": 15,
   "id": "76cfe507",
   "metadata": {},
   "outputs": [
    {
     "data": {
      "text/plain": [
       "Index(['Year', 'Weeks', 'Date', 'Mode of Transport', 'Statistic Label',\n",
       "       'Demand'],\n",
       "      dtype='object')"
      ]
     },
     "execution_count": 15,
     "metadata": {},
     "output_type": "execute_result"
    }
   ],
   "source": [
    "demand_data.columns"
   ]
  },
  {
   "cell_type": "code",
   "execution_count": 16,
   "id": "4b87fdd6",
   "metadata": {},
   "outputs": [
    {
     "data": {
      "text/html": [
       "<div>\n",
       "<style scoped>\n",
       "    .dataframe tbody tr th:only-of-type {\n",
       "        vertical-align: middle;\n",
       "    }\n",
       "\n",
       "    .dataframe tbody tr th {\n",
       "        vertical-align: top;\n",
       "    }\n",
       "\n",
       "    .dataframe thead th {\n",
       "        text-align: right;\n",
       "    }\n",
       "</style>\n",
       "<table border=\"1\" class=\"dataframe\">\n",
       "  <thead>\n",
       "    <tr style=\"text-align: right;\">\n",
       "      <th></th>\n",
       "      <th>Year</th>\n",
       "      <th>Weeks</th>\n",
       "      <th>Date</th>\n",
       "      <th>Mode of Transport</th>\n",
       "      <th>Statistic Label</th>\n",
       "      <th>Demand</th>\n",
       "    </tr>\n",
       "  </thead>\n",
       "  <tbody>\n",
       "    <tr>\n",
       "      <th>0</th>\n",
       "      <td>2019</td>\n",
       "      <td>Week 01</td>\n",
       "      <td>2019-07-01</td>\n",
       "      <td>Dublin Metro Bus</td>\n",
       "      <td>Passenger Journeys</td>\n",
       "      <td>1987891</td>\n",
       "    </tr>\n",
       "    <tr>\n",
       "      <th>1</th>\n",
       "      <td>2019</td>\n",
       "      <td>Week 02</td>\n",
       "      <td>2019-01-14</td>\n",
       "      <td>Dublin Metro Bus</td>\n",
       "      <td>Passenger Journeys</td>\n",
       "      <td>2709579</td>\n",
       "    </tr>\n",
       "    <tr>\n",
       "      <th>2</th>\n",
       "      <td>2019</td>\n",
       "      <td>Week 03</td>\n",
       "      <td>2019-01-21</td>\n",
       "      <td>Dublin Metro Bus</td>\n",
       "      <td>Passenger Journeys</td>\n",
       "      <td>2784678</td>\n",
       "    </tr>\n",
       "    <tr>\n",
       "      <th>3</th>\n",
       "      <td>2019</td>\n",
       "      <td>Week 04</td>\n",
       "      <td>2019-01-28</td>\n",
       "      <td>Dublin Metro Bus</td>\n",
       "      <td>Passenger Journeys</td>\n",
       "      <td>2858346</td>\n",
       "    </tr>\n",
       "    <tr>\n",
       "      <th>4</th>\n",
       "      <td>2019</td>\n",
       "      <td>Week 05</td>\n",
       "      <td>2019-04-02</td>\n",
       "      <td>Dublin Metro Bus</td>\n",
       "      <td>Passenger Journeys</td>\n",
       "      <td>2924821</td>\n",
       "    </tr>\n",
       "  </tbody>\n",
       "</table>\n",
       "</div>"
      ],
      "text/plain": [
       "   Year    Weeks       Date Mode of Transport     Statistic Label   Demand\n",
       "0  2019  Week 01 2019-07-01  Dublin Metro Bus  Passenger Journeys  1987891\n",
       "1  2019  Week 02 2019-01-14  Dublin Metro Bus  Passenger Journeys  2709579\n",
       "2  2019  Week 03 2019-01-21  Dublin Metro Bus  Passenger Journeys  2784678\n",
       "3  2019  Week 04 2019-01-28  Dublin Metro Bus  Passenger Journeys  2858346\n",
       "4  2019  Week 05 2019-04-02  Dublin Metro Bus  Passenger Journeys  2924821"
      ]
     },
     "execution_count": 16,
     "metadata": {},
     "output_type": "execute_result"
    }
   ],
   "source": [
    "demand_data.head()"
   ]
  },
  {
   "cell_type": "code",
   "execution_count": 17,
   "id": "cd6a9a11",
   "metadata": {},
   "outputs": [],
   "source": [
    "demand_data = demand_data[demand_data['Year'] == 2021]"
   ]
  },
  {
   "cell_type": "code",
   "execution_count": 18,
   "id": "0d7f6f84",
   "metadata": {},
   "outputs": [
    {
     "data": {
      "text/html": [
       "<div>\n",
       "<style scoped>\n",
       "    .dataframe tbody tr th:only-of-type {\n",
       "        vertical-align: middle;\n",
       "    }\n",
       "\n",
       "    .dataframe tbody tr th {\n",
       "        vertical-align: top;\n",
       "    }\n",
       "\n",
       "    .dataframe thead th {\n",
       "        text-align: right;\n",
       "    }\n",
       "</style>\n",
       "<table border=\"1\" class=\"dataframe\">\n",
       "  <thead>\n",
       "    <tr style=\"text-align: right;\">\n",
       "      <th></th>\n",
       "      <th>Year</th>\n",
       "      <th>Weeks</th>\n",
       "      <th>Date</th>\n",
       "      <th>Mode of Transport</th>\n",
       "      <th>Statistic Label</th>\n",
       "      <th>Demand</th>\n",
       "    </tr>\n",
       "  </thead>\n",
       "  <tbody>\n",
       "    <tr>\n",
       "      <th>424</th>\n",
       "      <td>2021</td>\n",
       "      <td>Week 01</td>\n",
       "      <td>2021-04-01</td>\n",
       "      <td>Dublin Metro Bus</td>\n",
       "      <td>Passenger Journeys</td>\n",
       "      <td>747912</td>\n",
       "    </tr>\n",
       "    <tr>\n",
       "      <th>425</th>\n",
       "      <td>2021</td>\n",
       "      <td>Week 02</td>\n",
       "      <td>2021-11-01</td>\n",
       "      <td>Dublin Metro Bus</td>\n",
       "      <td>Passenger Journeys</td>\n",
       "      <td>735000</td>\n",
       "    </tr>\n",
       "    <tr>\n",
       "      <th>426</th>\n",
       "      <td>2021</td>\n",
       "      <td>Week 03</td>\n",
       "      <td>2021-01-18</td>\n",
       "      <td>Dublin Metro Bus</td>\n",
       "      <td>Passenger Journeys</td>\n",
       "      <td>731273</td>\n",
       "    </tr>\n",
       "    <tr>\n",
       "      <th>427</th>\n",
       "      <td>2021</td>\n",
       "      <td>Week 04</td>\n",
       "      <td>2021-01-25</td>\n",
       "      <td>Dublin Metro Bus</td>\n",
       "      <td>Passenger Journeys</td>\n",
       "      <td>742813</td>\n",
       "    </tr>\n",
       "    <tr>\n",
       "      <th>428</th>\n",
       "      <td>2021</td>\n",
       "      <td>Week 05</td>\n",
       "      <td>2021-01-02</td>\n",
       "      <td>Dublin Metro Bus</td>\n",
       "      <td>Passenger Journeys</td>\n",
       "      <td>791189</td>\n",
       "    </tr>\n",
       "  </tbody>\n",
       "</table>\n",
       "</div>"
      ],
      "text/plain": [
       "     Year    Weeks       Date Mode of Transport     Statistic Label  Demand\n",
       "424  2021  Week 01 2021-04-01  Dublin Metro Bus  Passenger Journeys  747912\n",
       "425  2021  Week 02 2021-11-01  Dublin Metro Bus  Passenger Journeys  735000\n",
       "426  2021  Week 03 2021-01-18  Dublin Metro Bus  Passenger Journeys  731273\n",
       "427  2021  Week 04 2021-01-25  Dublin Metro Bus  Passenger Journeys  742813\n",
       "428  2021  Week 05 2021-01-02  Dublin Metro Bus  Passenger Journeys  791189"
      ]
     },
     "execution_count": 18,
     "metadata": {},
     "output_type": "execute_result"
    }
   ],
   "source": [
    "demand_data.head()"
   ]
  },
  {
   "cell_type": "code",
   "execution_count": 19,
   "id": "4a5faacc",
   "metadata": {},
   "outputs": [
    {
     "name": "stdout",
     "output_type": "stream",
     "text": [
      "Total lines of data: 212\n"
     ]
    }
   ],
   "source": [
    "total_lines = len(demand_data)\n",
    "print(\"Total lines of data:\", total_lines)"
   ]
  },
  {
   "cell_type": "markdown",
   "id": "ac82123a",
   "metadata": {},
   "source": [
    "# Preparing the second dataset: demographic_data"
   ]
  },
  {
   "cell_type": "code",
   "execution_count": 20,
   "id": "71959d75",
   "metadata": {},
   "outputs": [
    {
     "data": {
      "text/html": [
       "<div>\n",
       "<style scoped>\n",
       "    .dataframe tbody tr th:only-of-type {\n",
       "        vertical-align: middle;\n",
       "    }\n",
       "\n",
       "    .dataframe tbody tr th {\n",
       "        vertical-align: top;\n",
       "    }\n",
       "\n",
       "    .dataframe thead th {\n",
       "        text-align: right;\n",
       "    }\n",
       "</style>\n",
       "<table border=\"1\" class=\"dataframe\">\n",
       "  <thead>\n",
       "    <tr style=\"text-align: right;\">\n",
       "      <th></th>\n",
       "      <th>STATISTIC</th>\n",
       "      <th>Statistic Label</th>\n",
       "      <th>TLIST(A1)</th>\n",
       "      <th>Year</th>\n",
       "      <th>C02199V02655</th>\n",
       "      <th>Sex</th>\n",
       "      <th>C02076V02508</th>\n",
       "      <th>Age Group</th>\n",
       "      <th>UNIT</th>\n",
       "      <th>VALUE</th>\n",
       "    </tr>\n",
       "  </thead>\n",
       "  <tbody>\n",
       "    <tr>\n",
       "      <th>0</th>\n",
       "      <td>NTA105C01</td>\n",
       "      <td>Frequency of use of bus services - Weekly or m...</td>\n",
       "      <td>2021</td>\n",
       "      <td>2021</td>\n",
       "      <td>1</td>\n",
       "      <td>Male</td>\n",
       "      <td>350</td>\n",
       "      <td>18 - 24 years</td>\n",
       "      <td>%</td>\n",
       "      <td>NaN</td>\n",
       "    </tr>\n",
       "    <tr>\n",
       "      <th>1</th>\n",
       "      <td>NTA105C01</td>\n",
       "      <td>Frequency of use of bus services - Weekly or m...</td>\n",
       "      <td>2021</td>\n",
       "      <td>2021</td>\n",
       "      <td>1</td>\n",
       "      <td>Male</td>\n",
       "      <td>415</td>\n",
       "      <td>25 - 34 years</td>\n",
       "      <td>%</td>\n",
       "      <td>19.0</td>\n",
       "    </tr>\n",
       "    <tr>\n",
       "      <th>2</th>\n",
       "      <td>NTA105C01</td>\n",
       "      <td>Frequency of use of bus services - Weekly or m...</td>\n",
       "      <td>2021</td>\n",
       "      <td>2021</td>\n",
       "      <td>1</td>\n",
       "      <td>Male</td>\n",
       "      <td>465</td>\n",
       "      <td>35 - 44 years</td>\n",
       "      <td>%</td>\n",
       "      <td>10.0</td>\n",
       "    </tr>\n",
       "    <tr>\n",
       "      <th>3</th>\n",
       "      <td>NTA105C01</td>\n",
       "      <td>Frequency of use of bus services - Weekly or m...</td>\n",
       "      <td>2021</td>\n",
       "      <td>2021</td>\n",
       "      <td>1</td>\n",
       "      <td>Male</td>\n",
       "      <td>500</td>\n",
       "      <td>45 - 54 years</td>\n",
       "      <td>%</td>\n",
       "      <td>9.0</td>\n",
       "    </tr>\n",
       "    <tr>\n",
       "      <th>4</th>\n",
       "      <td>NTA105C01</td>\n",
       "      <td>Frequency of use of bus services - Weekly or m...</td>\n",
       "      <td>2021</td>\n",
       "      <td>2021</td>\n",
       "      <td>1</td>\n",
       "      <td>Male</td>\n",
       "      <td>535</td>\n",
       "      <td>55 - 64 years</td>\n",
       "      <td>%</td>\n",
       "      <td>7.0</td>\n",
       "    </tr>\n",
       "  </tbody>\n",
       "</table>\n",
       "</div>"
      ],
      "text/plain": [
       "   STATISTIC                                    Statistic Label  TLIST(A1)  \\\n",
       "0  NTA105C01  Frequency of use of bus services - Weekly or m...       2021   \n",
       "1  NTA105C01  Frequency of use of bus services - Weekly or m...       2021   \n",
       "2  NTA105C01  Frequency of use of bus services - Weekly or m...       2021   \n",
       "3  NTA105C01  Frequency of use of bus services - Weekly or m...       2021   \n",
       "4  NTA105C01  Frequency of use of bus services - Weekly or m...       2021   \n",
       "\n",
       "   Year  C02199V02655   Sex  C02076V02508      Age Group UNIT  VALUE  \n",
       "0  2021             1  Male           350  18 - 24 years    %    NaN  \n",
       "1  2021             1  Male           415  25 - 34 years    %   19.0  \n",
       "2  2021             1  Male           465  35 - 44 years    %   10.0  \n",
       "3  2021             1  Male           500  45 - 54 years    %    9.0  \n",
       "4  2021             1  Male           535  55 - 64 years    %    7.0  "
      ]
     },
     "execution_count": 20,
     "metadata": {},
     "output_type": "execute_result"
    }
   ],
   "source": [
    "demographic_data.head()"
   ]
  },
  {
   "cell_type": "code",
   "execution_count": 21,
   "id": "3a459fbf",
   "metadata": {},
   "outputs": [],
   "source": [
    "# Renaming columns\n",
    "demographic_data.rename(columns={'VALUE': 'Demand %'}, inplace=True)"
   ]
  },
  {
   "cell_type": "code",
   "execution_count": 22,
   "id": "52f58d5d",
   "metadata": {},
   "outputs": [],
   "source": [
    "demographic_data.drop(['STATISTIC','TLIST(A1)','C02199V02655','C02076V02508','UNIT'], axis = 1, inplace = True)"
   ]
  },
  {
   "cell_type": "code",
   "execution_count": 23,
   "id": "9863cfa0",
   "metadata": {},
   "outputs": [
    {
     "data": {
      "text/html": [
       "<div>\n",
       "<style scoped>\n",
       "    .dataframe tbody tr th:only-of-type {\n",
       "        vertical-align: middle;\n",
       "    }\n",
       "\n",
       "    .dataframe tbody tr th {\n",
       "        vertical-align: top;\n",
       "    }\n",
       "\n",
       "    .dataframe thead th {\n",
       "        text-align: right;\n",
       "    }\n",
       "</style>\n",
       "<table border=\"1\" class=\"dataframe\">\n",
       "  <thead>\n",
       "    <tr style=\"text-align: right;\">\n",
       "      <th></th>\n",
       "      <th>Statistic Label</th>\n",
       "      <th>Year</th>\n",
       "      <th>Sex</th>\n",
       "      <th>Age Group</th>\n",
       "      <th>Demand %</th>\n",
       "    </tr>\n",
       "  </thead>\n",
       "  <tbody>\n",
       "    <tr>\n",
       "      <th>0</th>\n",
       "      <td>Frequency of use of bus services - Weekly or m...</td>\n",
       "      <td>2021</td>\n",
       "      <td>Male</td>\n",
       "      <td>18 - 24 years</td>\n",
       "      <td>NaN</td>\n",
       "    </tr>\n",
       "    <tr>\n",
       "      <th>1</th>\n",
       "      <td>Frequency of use of bus services - Weekly or m...</td>\n",
       "      <td>2021</td>\n",
       "      <td>Male</td>\n",
       "      <td>25 - 34 years</td>\n",
       "      <td>19.0</td>\n",
       "    </tr>\n",
       "    <tr>\n",
       "      <th>2</th>\n",
       "      <td>Frequency of use of bus services - Weekly or m...</td>\n",
       "      <td>2021</td>\n",
       "      <td>Male</td>\n",
       "      <td>35 - 44 years</td>\n",
       "      <td>10.0</td>\n",
       "    </tr>\n",
       "    <tr>\n",
       "      <th>3</th>\n",
       "      <td>Frequency of use of bus services - Weekly or m...</td>\n",
       "      <td>2021</td>\n",
       "      <td>Male</td>\n",
       "      <td>45 - 54 years</td>\n",
       "      <td>9.0</td>\n",
       "    </tr>\n",
       "    <tr>\n",
       "      <th>4</th>\n",
       "      <td>Frequency of use of bus services - Weekly or m...</td>\n",
       "      <td>2021</td>\n",
       "      <td>Male</td>\n",
       "      <td>55 - 64 years</td>\n",
       "      <td>7.0</td>\n",
       "    </tr>\n",
       "  </tbody>\n",
       "</table>\n",
       "</div>"
      ],
      "text/plain": [
       "                                     Statistic Label  Year   Sex  \\\n",
       "0  Frequency of use of bus services - Weekly or m...  2021  Male   \n",
       "1  Frequency of use of bus services - Weekly or m...  2021  Male   \n",
       "2  Frequency of use of bus services - Weekly or m...  2021  Male   \n",
       "3  Frequency of use of bus services - Weekly or m...  2021  Male   \n",
       "4  Frequency of use of bus services - Weekly or m...  2021  Male   \n",
       "\n",
       "       Age Group  Demand %  \n",
       "0  18 - 24 years       NaN  \n",
       "1  25 - 34 years      19.0  \n",
       "2  35 - 44 years      10.0  \n",
       "3  45 - 54 years       9.0  \n",
       "4  55 - 64 years       7.0  "
      ]
     },
     "execution_count": 23,
     "metadata": {},
     "output_type": "execute_result"
    }
   ],
   "source": [
    "demographic_data.head()"
   ]
  },
  {
   "cell_type": "code",
   "execution_count": 24,
   "id": "c5960262",
   "metadata": {},
   "outputs": [],
   "source": [
    "mean_value = demographic_data['Demand %'].mean()\n",
    "demographic_data['Demand %'].fillna(mean_value, inplace=True)"
   ]
  },
  {
   "cell_type": "code",
   "execution_count": 25,
   "id": "4646ed31",
   "metadata": {},
   "outputs": [],
   "source": [
    "# Forward fill and Backward fill\n",
    "demographic_data.fillna(method='ffill', inplace=True)  \n",
    "demographic_data.fillna(method='bfill', inplace=True)  "
   ]
  },
  {
   "cell_type": "code",
   "execution_count": 26,
   "id": "1ab3febe",
   "metadata": {},
   "outputs": [],
   "source": [
    "demographic_data.interpolate(method='linear', inplace=True)"
   ]
  },
  {
   "cell_type": "code",
   "execution_count": 27,
   "id": "65e48c84",
   "metadata": {},
   "outputs": [
    {
     "data": {
      "text/html": [
       "<div>\n",
       "<style scoped>\n",
       "    .dataframe tbody tr th:only-of-type {\n",
       "        vertical-align: middle;\n",
       "    }\n",
       "\n",
       "    .dataframe tbody tr th {\n",
       "        vertical-align: top;\n",
       "    }\n",
       "\n",
       "    .dataframe thead th {\n",
       "        text-align: right;\n",
       "    }\n",
       "</style>\n",
       "<table border=\"1\" class=\"dataframe\">\n",
       "  <thead>\n",
       "    <tr style=\"text-align: right;\">\n",
       "      <th></th>\n",
       "      <th>Statistic Label</th>\n",
       "      <th>Year</th>\n",
       "      <th>Sex</th>\n",
       "      <th>Age Group</th>\n",
       "      <th>Demand %</th>\n",
       "    </tr>\n",
       "  </thead>\n",
       "  <tbody>\n",
       "    <tr>\n",
       "      <th>0</th>\n",
       "      <td>Frequency of use of bus services - Weekly or m...</td>\n",
       "      <td>2021</td>\n",
       "      <td>Male</td>\n",
       "      <td>18 - 24 years</td>\n",
       "      <td>28.59375</td>\n",
       "    </tr>\n",
       "    <tr>\n",
       "      <th>1</th>\n",
       "      <td>Frequency of use of bus services - Weekly or m...</td>\n",
       "      <td>2021</td>\n",
       "      <td>Male</td>\n",
       "      <td>25 - 34 years</td>\n",
       "      <td>19.00000</td>\n",
       "    </tr>\n",
       "    <tr>\n",
       "      <th>2</th>\n",
       "      <td>Frequency of use of bus services - Weekly or m...</td>\n",
       "      <td>2021</td>\n",
       "      <td>Male</td>\n",
       "      <td>35 - 44 years</td>\n",
       "      <td>10.00000</td>\n",
       "    </tr>\n",
       "    <tr>\n",
       "      <th>3</th>\n",
       "      <td>Frequency of use of bus services - Weekly or m...</td>\n",
       "      <td>2021</td>\n",
       "      <td>Male</td>\n",
       "      <td>45 - 54 years</td>\n",
       "      <td>9.00000</td>\n",
       "    </tr>\n",
       "    <tr>\n",
       "      <th>4</th>\n",
       "      <td>Frequency of use of bus services - Weekly or m...</td>\n",
       "      <td>2021</td>\n",
       "      <td>Male</td>\n",
       "      <td>55 - 64 years</td>\n",
       "      <td>7.00000</td>\n",
       "    </tr>\n",
       "  </tbody>\n",
       "</table>\n",
       "</div>"
      ],
      "text/plain": [
       "                                     Statistic Label  Year   Sex  \\\n",
       "0  Frequency of use of bus services - Weekly or m...  2021  Male   \n",
       "1  Frequency of use of bus services - Weekly or m...  2021  Male   \n",
       "2  Frequency of use of bus services - Weekly or m...  2021  Male   \n",
       "3  Frequency of use of bus services - Weekly or m...  2021  Male   \n",
       "4  Frequency of use of bus services - Weekly or m...  2021  Male   \n",
       "\n",
       "       Age Group  Demand %  \n",
       "0  18 - 24 years  28.59375  \n",
       "1  25 - 34 years  19.00000  \n",
       "2  35 - 44 years  10.00000  \n",
       "3  45 - 54 years   9.00000  \n",
       "4  55 - 64 years   7.00000  "
      ]
     },
     "execution_count": 27,
     "metadata": {},
     "output_type": "execute_result"
    }
   ],
   "source": [
    "demographic_data.head()"
   ]
  },
  {
   "cell_type": "code",
   "execution_count": 28,
   "id": "400edd58",
   "metadata": {},
   "outputs": [
    {
     "data": {
      "text/plain": [
       "Index(['Statistic Label', 'Year', 'Sex', 'Age Group', 'Demand %'], dtype='object')"
      ]
     },
     "execution_count": 28,
     "metadata": {},
     "output_type": "execute_result"
    }
   ],
   "source": [
    "demographic_data.columns"
   ]
  },
  {
   "cell_type": "code",
   "execution_count": 29,
   "id": "2b7c8ded",
   "metadata": {},
   "outputs": [
    {
     "name": "stdout",
     "output_type": "stream",
     "text": [
      "Total lines of data: 112\n"
     ]
    }
   ],
   "source": [
    "total_lines = len(demographic_data)\n",
    "print(\"Total lines of data:\", total_lines)"
   ]
  },
  {
   "cell_type": "markdown",
   "id": "76b80be2",
   "metadata": {},
   "source": [
    "# Preparing the Third dataset: weather_data"
   ]
  },
  {
   "cell_type": "code",
   "execution_count": 30,
   "id": "fe311d98",
   "metadata": {},
   "outputs": [
    {
     "data": {
      "text/html": [
       "<div>\n",
       "<style scoped>\n",
       "    .dataframe tbody tr th:only-of-type {\n",
       "        vertical-align: middle;\n",
       "    }\n",
       "\n",
       "    .dataframe tbody tr th {\n",
       "        vertical-align: top;\n",
       "    }\n",
       "\n",
       "    .dataframe thead th {\n",
       "        text-align: right;\n",
       "    }\n",
       "</style>\n",
       "<table border=\"1\" class=\"dataframe\">\n",
       "  <thead>\n",
       "    <tr style=\"text-align: right;\">\n",
       "      <th></th>\n",
       "      <th>date</th>\n",
       "      <th>ind</th>\n",
       "      <th>rain</th>\n",
       "      <th>ind.1</th>\n",
       "      <th>maxt</th>\n",
       "      <th>ind.2</th>\n",
       "      <th>mint</th>\n",
       "      <th>gmin</th>\n",
       "      <th>soil</th>\n",
       "    </tr>\n",
       "  </thead>\n",
       "  <tbody>\n",
       "    <tr>\n",
       "      <th>0</th>\n",
       "      <td>01-Jan-41</td>\n",
       "      <td>0</td>\n",
       "      <td>2.4</td>\n",
       "      <td></td>\n",
       "      <td></td>\n",
       "      <td></td>\n",
       "      <td></td>\n",
       "      <td></td>\n",
       "      <td></td>\n",
       "    </tr>\n",
       "    <tr>\n",
       "      <th>1</th>\n",
       "      <td>02-Jan-41</td>\n",
       "      <td>0</td>\n",
       "      <td>0.9</td>\n",
       "      <td></td>\n",
       "      <td></td>\n",
       "      <td></td>\n",
       "      <td></td>\n",
       "      <td></td>\n",
       "      <td></td>\n",
       "    </tr>\n",
       "    <tr>\n",
       "      <th>2</th>\n",
       "      <td>03-Jan-41</td>\n",
       "      <td>0</td>\n",
       "      <td>0.0</td>\n",
       "      <td></td>\n",
       "      <td></td>\n",
       "      <td></td>\n",
       "      <td></td>\n",
       "      <td></td>\n",
       "      <td></td>\n",
       "    </tr>\n",
       "    <tr>\n",
       "      <th>3</th>\n",
       "      <td>04-Jan-41</td>\n",
       "      <td>0</td>\n",
       "      <td>0.0</td>\n",
       "      <td></td>\n",
       "      <td></td>\n",
       "      <td></td>\n",
       "      <td></td>\n",
       "      <td></td>\n",
       "      <td></td>\n",
       "    </tr>\n",
       "    <tr>\n",
       "      <th>4</th>\n",
       "      <td>05-Jan-41</td>\n",
       "      <td>0</td>\n",
       "      <td>0.0</td>\n",
       "      <td></td>\n",
       "      <td></td>\n",
       "      <td></td>\n",
       "      <td></td>\n",
       "      <td></td>\n",
       "      <td></td>\n",
       "    </tr>\n",
       "  </tbody>\n",
       "</table>\n",
       "</div>"
      ],
      "text/plain": [
       "        date  ind  rain ind.1 maxt ind.2 mint gmin soil\n",
       "0  01-Jan-41    0   2.4                                \n",
       "1  02-Jan-41    0   0.9                                \n",
       "2  03-Jan-41    0   0.0                                \n",
       "3  04-Jan-41    0   0.0                                \n",
       "4  05-Jan-41    0   0.0                                "
      ]
     },
     "execution_count": 30,
     "metadata": {},
     "output_type": "execute_result"
    }
   ],
   "source": [
    "weather_data.head()"
   ]
  },
  {
   "cell_type": "code",
   "execution_count": 31,
   "id": "290d0f71",
   "metadata": {},
   "outputs": [],
   "source": [
    "# Renaming columns\n",
    "weather_data.rename(columns={'ind': 'Indicator', 'rain': 'Rain','maxt':'Temperature(c)','soil':'Soil'}, inplace=True)"
   ]
  },
  {
   "cell_type": "code",
   "execution_count": 32,
   "id": "326fea11",
   "metadata": {},
   "outputs": [],
   "source": [
    "weather_data.drop(['ind.1','ind.2','mint','gmin'], axis = 1, inplace = True)"
   ]
  },
  {
   "cell_type": "code",
   "execution_count": 33,
   "id": "35bcc4c4",
   "metadata": {},
   "outputs": [
    {
     "data": {
      "text/plain": [
       "Index(['date', 'Indicator', 'Rain', 'Temperature(c)', 'Soil'], dtype='object')"
      ]
     },
     "execution_count": 33,
     "metadata": {},
     "output_type": "execute_result"
    }
   ],
   "source": [
    "weather_data.columns"
   ]
  },
  {
   "cell_type": "code",
   "execution_count": 34,
   "id": "8c5a2d43",
   "metadata": {},
   "outputs": [],
   "source": [
    "# Converting date column to datetime format\n",
    "weather_data['date'] = pd.to_datetime(weather_data['date'], format='%d-%b-%y')\n",
    "# Only taking data of year 2021\n",
    "weather_data = weather_data[weather_data['date'].dt.year == 2021]"
   ]
  },
  {
   "cell_type": "code",
   "execution_count": 35,
   "id": "9b537b40",
   "metadata": {
    "scrolled": true
   },
   "outputs": [
    {
     "data": {
      "text/html": [
       "<div>\n",
       "<style scoped>\n",
       "    .dataframe tbody tr th:only-of-type {\n",
       "        vertical-align: middle;\n",
       "    }\n",
       "\n",
       "    .dataframe tbody tr th {\n",
       "        vertical-align: top;\n",
       "    }\n",
       "\n",
       "    .dataframe thead th {\n",
       "        text-align: right;\n",
       "    }\n",
       "</style>\n",
       "<table border=\"1\" class=\"dataframe\">\n",
       "  <thead>\n",
       "    <tr style=\"text-align: right;\">\n",
       "      <th></th>\n",
       "      <th>date</th>\n",
       "      <th>Indicator</th>\n",
       "      <th>Rain</th>\n",
       "      <th>Temperature(c)</th>\n",
       "      <th>Soil</th>\n",
       "    </tr>\n",
       "  </thead>\n",
       "  <tbody>\n",
       "    <tr>\n",
       "      <th>37158</th>\n",
       "      <td>2021-01-01</td>\n",
       "      <td>0</td>\n",
       "      <td>0.4</td>\n",
       "      <td>6.1</td>\n",
       "      <td></td>\n",
       "    </tr>\n",
       "    <tr>\n",
       "      <th>37159</th>\n",
       "      <td>2021-01-02</td>\n",
       "      <td>4</td>\n",
       "      <td>0.0</td>\n",
       "      <td>4.5</td>\n",
       "      <td></td>\n",
       "    </tr>\n",
       "    <tr>\n",
       "      <th>37160</th>\n",
       "      <td>2021-01-03</td>\n",
       "      <td>0</td>\n",
       "      <td>4.4</td>\n",
       "      <td>7</td>\n",
       "      <td></td>\n",
       "    </tr>\n",
       "    <tr>\n",
       "      <th>37161</th>\n",
       "      <td>2021-01-04</td>\n",
       "      <td>0</td>\n",
       "      <td>1.0</td>\n",
       "      <td>6.6</td>\n",
       "      <td></td>\n",
       "    </tr>\n",
       "    <tr>\n",
       "      <th>37162</th>\n",
       "      <td>2021-01-05</td>\n",
       "      <td>0</td>\n",
       "      <td>4.9</td>\n",
       "      <td>5.6</td>\n",
       "      <td></td>\n",
       "    </tr>\n",
       "  </tbody>\n",
       "</table>\n",
       "</div>"
      ],
      "text/plain": [
       "            date  Indicator  Rain Temperature(c) Soil\n",
       "37158 2021-01-01          0   0.4            6.1     \n",
       "37159 2021-01-02          4   0.0            4.5     \n",
       "37160 2021-01-03          0   4.4              7     \n",
       "37161 2021-01-04          0   1.0            6.6     \n",
       "37162 2021-01-05          0   4.9            5.6     "
      ]
     },
     "execution_count": 35,
     "metadata": {},
     "output_type": "execute_result"
    }
   ],
   "source": [
    "weather_data.head()"
   ]
  },
  {
   "cell_type": "code",
   "execution_count": 36,
   "id": "f532c973",
   "metadata": {},
   "outputs": [
    {
     "name": "stdout",
     "output_type": "stream",
     "text": [
      "Total lines of data: 365\n"
     ]
    }
   ],
   "source": [
    "total_lines = len(weather_data)\n",
    "print(\"Total lines of data:\", total_lines)"
   ]
  },
  {
   "cell_type": "code",
   "execution_count": 37,
   "id": "8feb46c2",
   "metadata": {},
   "outputs": [],
   "source": [
    "# filling with values on Soil column \n",
    "random_soil_values = np.random.rand(len(weather_data)) * 10 \n",
    "weather_data['Soil'] = random_soil_values"
   ]
  },
  {
   "cell_type": "code",
   "execution_count": 38,
   "id": "cc58b501",
   "metadata": {},
   "outputs": [],
   "source": [
    "# filling missing values\n",
    "weather_data['Rain'].interpolate(method='linear', inplace=True)\n",
    "weather_data['Temperature(c)'].fillna(method='ffill', inplace=True)"
   ]
  },
  {
   "cell_type": "code",
   "execution_count": 39,
   "id": "a1958444",
   "metadata": {},
   "outputs": [
    {
     "data": {
      "text/html": [
       "<div>\n",
       "<style scoped>\n",
       "    .dataframe tbody tr th:only-of-type {\n",
       "        vertical-align: middle;\n",
       "    }\n",
       "\n",
       "    .dataframe tbody tr th {\n",
       "        vertical-align: top;\n",
       "    }\n",
       "\n",
       "    .dataframe thead th {\n",
       "        text-align: right;\n",
       "    }\n",
       "</style>\n",
       "<table border=\"1\" class=\"dataframe\">\n",
       "  <thead>\n",
       "    <tr style=\"text-align: right;\">\n",
       "      <th></th>\n",
       "      <th>date</th>\n",
       "      <th>Indicator</th>\n",
       "      <th>Rain</th>\n",
       "      <th>Temperature(c)</th>\n",
       "      <th>Soil</th>\n",
       "    </tr>\n",
       "  </thead>\n",
       "  <tbody>\n",
       "    <tr>\n",
       "      <th>37158</th>\n",
       "      <td>2021-01-01</td>\n",
       "      <td>0</td>\n",
       "      <td>0.4</td>\n",
       "      <td>6.1</td>\n",
       "      <td>4.481144</td>\n",
       "    </tr>\n",
       "    <tr>\n",
       "      <th>37159</th>\n",
       "      <td>2021-01-02</td>\n",
       "      <td>4</td>\n",
       "      <td>0.0</td>\n",
       "      <td>4.5</td>\n",
       "      <td>6.824264</td>\n",
       "    </tr>\n",
       "    <tr>\n",
       "      <th>37160</th>\n",
       "      <td>2021-01-03</td>\n",
       "      <td>0</td>\n",
       "      <td>4.4</td>\n",
       "      <td>7</td>\n",
       "      <td>2.214276</td>\n",
       "    </tr>\n",
       "    <tr>\n",
       "      <th>37161</th>\n",
       "      <td>2021-01-04</td>\n",
       "      <td>0</td>\n",
       "      <td>1.0</td>\n",
       "      <td>6.6</td>\n",
       "      <td>0.191226</td>\n",
       "    </tr>\n",
       "    <tr>\n",
       "      <th>37162</th>\n",
       "      <td>2021-01-05</td>\n",
       "      <td>0</td>\n",
       "      <td>4.9</td>\n",
       "      <td>5.6</td>\n",
       "      <td>7.090872</td>\n",
       "    </tr>\n",
       "  </tbody>\n",
       "</table>\n",
       "</div>"
      ],
      "text/plain": [
       "            date  Indicator  Rain Temperature(c)      Soil\n",
       "37158 2021-01-01          0   0.4            6.1  4.481144\n",
       "37159 2021-01-02          4   0.0            4.5  6.824264\n",
       "37160 2021-01-03          0   4.4              7  2.214276\n",
       "37161 2021-01-04          0   1.0            6.6  0.191226\n",
       "37162 2021-01-05          0   4.9            5.6  7.090872"
      ]
     },
     "execution_count": 39,
     "metadata": {},
     "output_type": "execute_result"
    }
   ],
   "source": [
    "weather_data.head()"
   ]
  },
  {
   "cell_type": "code",
   "execution_count": 40,
   "id": "7ebccf20",
   "metadata": {},
   "outputs": [
    {
     "data": {
      "text/plain": [
       "Index(['date', 'Indicator', 'Rain', 'Temperature(c)', 'Soil'], dtype='object')"
      ]
     },
     "execution_count": 40,
     "metadata": {},
     "output_type": "execute_result"
    }
   ],
   "source": [
    "weather_data.columns"
   ]
  },
  {
   "cell_type": "code",
   "execution_count": 41,
   "id": "201a9c45",
   "metadata": {},
   "outputs": [
    {
     "data": {
      "text/html": [
       "<div>\n",
       "<style scoped>\n",
       "    .dataframe tbody tr th:only-of-type {\n",
       "        vertical-align: middle;\n",
       "    }\n",
       "\n",
       "    .dataframe tbody tr th {\n",
       "        vertical-align: top;\n",
       "    }\n",
       "\n",
       "    .dataframe thead th {\n",
       "        text-align: right;\n",
       "    }\n",
       "</style>\n",
       "<table border=\"1\" class=\"dataframe\">\n",
       "  <thead>\n",
       "    <tr style=\"text-align: right;\">\n",
       "      <th></th>\n",
       "      <th>date</th>\n",
       "      <th>Indicator</th>\n",
       "      <th>Rain</th>\n",
       "      <th>Temperature(c)</th>\n",
       "      <th>Soil</th>\n",
       "    </tr>\n",
       "  </thead>\n",
       "  <tbody>\n",
       "    <tr>\n",
       "      <th>37158</th>\n",
       "      <td>2021-01-01</td>\n",
       "      <td>0</td>\n",
       "      <td>0.4</td>\n",
       "      <td>6.1</td>\n",
       "      <td>4.481144</td>\n",
       "    </tr>\n",
       "    <tr>\n",
       "      <th>37159</th>\n",
       "      <td>2021-01-02</td>\n",
       "      <td>4</td>\n",
       "      <td>0.0</td>\n",
       "      <td>4.5</td>\n",
       "      <td>6.824264</td>\n",
       "    </tr>\n",
       "    <tr>\n",
       "      <th>37160</th>\n",
       "      <td>2021-01-03</td>\n",
       "      <td>0</td>\n",
       "      <td>4.4</td>\n",
       "      <td>7</td>\n",
       "      <td>2.214276</td>\n",
       "    </tr>\n",
       "    <tr>\n",
       "      <th>37161</th>\n",
       "      <td>2021-01-04</td>\n",
       "      <td>0</td>\n",
       "      <td>1.0</td>\n",
       "      <td>6.6</td>\n",
       "      <td>0.191226</td>\n",
       "    </tr>\n",
       "    <tr>\n",
       "      <th>37162</th>\n",
       "      <td>2021-01-05</td>\n",
       "      <td>0</td>\n",
       "      <td>4.9</td>\n",
       "      <td>5.6</td>\n",
       "      <td>7.090872</td>\n",
       "    </tr>\n",
       "  </tbody>\n",
       "</table>\n",
       "</div>"
      ],
      "text/plain": [
       "            date  Indicator  Rain Temperature(c)      Soil\n",
       "37158 2021-01-01          0   0.4            6.1  4.481144\n",
       "37159 2021-01-02          4   0.0            4.5  6.824264\n",
       "37160 2021-01-03          0   4.4              7  2.214276\n",
       "37161 2021-01-04          0   1.0            6.6  0.191226\n",
       "37162 2021-01-05          0   4.9            5.6  7.090872"
      ]
     },
     "execution_count": 41,
     "metadata": {},
     "output_type": "execute_result"
    }
   ],
   "source": [
    "weather_data.head()"
   ]
  },
  {
   "cell_type": "markdown",
   "id": "5174cb24",
   "metadata": {},
   "source": [
    "# Visulisation for the first dataset:demand_data"
   ]
  },
  {
   "cell_type": "code",
   "execution_count": 42,
   "id": "c36b81f4",
   "metadata": {},
   "outputs": [
    {
     "data": {
      "text/html": [
       "<div>\n",
       "<style scoped>\n",
       "    .dataframe tbody tr th:only-of-type {\n",
       "        vertical-align: middle;\n",
       "    }\n",
       "\n",
       "    .dataframe tbody tr th {\n",
       "        vertical-align: top;\n",
       "    }\n",
       "\n",
       "    .dataframe thead th {\n",
       "        text-align: right;\n",
       "    }\n",
       "</style>\n",
       "<table border=\"1\" class=\"dataframe\">\n",
       "  <thead>\n",
       "    <tr style=\"text-align: right;\">\n",
       "      <th></th>\n",
       "      <th>Year</th>\n",
       "      <th>Weeks</th>\n",
       "      <th>Date</th>\n",
       "      <th>Mode of Transport</th>\n",
       "      <th>Statistic Label</th>\n",
       "      <th>Demand</th>\n",
       "    </tr>\n",
       "  </thead>\n",
       "  <tbody>\n",
       "    <tr>\n",
       "      <th>424</th>\n",
       "      <td>2021</td>\n",
       "      <td>Week 01</td>\n",
       "      <td>2021-04-01</td>\n",
       "      <td>Dublin Metro Bus</td>\n",
       "      <td>Passenger Journeys</td>\n",
       "      <td>747912</td>\n",
       "    </tr>\n",
       "    <tr>\n",
       "      <th>425</th>\n",
       "      <td>2021</td>\n",
       "      <td>Week 02</td>\n",
       "      <td>2021-11-01</td>\n",
       "      <td>Dublin Metro Bus</td>\n",
       "      <td>Passenger Journeys</td>\n",
       "      <td>735000</td>\n",
       "    </tr>\n",
       "    <tr>\n",
       "      <th>426</th>\n",
       "      <td>2021</td>\n",
       "      <td>Week 03</td>\n",
       "      <td>2021-01-18</td>\n",
       "      <td>Dublin Metro Bus</td>\n",
       "      <td>Passenger Journeys</td>\n",
       "      <td>731273</td>\n",
       "    </tr>\n",
       "    <tr>\n",
       "      <th>427</th>\n",
       "      <td>2021</td>\n",
       "      <td>Week 04</td>\n",
       "      <td>2021-01-25</td>\n",
       "      <td>Dublin Metro Bus</td>\n",
       "      <td>Passenger Journeys</td>\n",
       "      <td>742813</td>\n",
       "    </tr>\n",
       "    <tr>\n",
       "      <th>428</th>\n",
       "      <td>2021</td>\n",
       "      <td>Week 05</td>\n",
       "      <td>2021-01-02</td>\n",
       "      <td>Dublin Metro Bus</td>\n",
       "      <td>Passenger Journeys</td>\n",
       "      <td>791189</td>\n",
       "    </tr>\n",
       "  </tbody>\n",
       "</table>\n",
       "</div>"
      ],
      "text/plain": [
       "     Year    Weeks       Date Mode of Transport     Statistic Label  Demand\n",
       "424  2021  Week 01 2021-04-01  Dublin Metro Bus  Passenger Journeys  747912\n",
       "425  2021  Week 02 2021-11-01  Dublin Metro Bus  Passenger Journeys  735000\n",
       "426  2021  Week 03 2021-01-18  Dublin Metro Bus  Passenger Journeys  731273\n",
       "427  2021  Week 04 2021-01-25  Dublin Metro Bus  Passenger Journeys  742813\n",
       "428  2021  Week 05 2021-01-02  Dublin Metro Bus  Passenger Journeys  791189"
      ]
     },
     "execution_count": 42,
     "metadata": {},
     "output_type": "execute_result"
    }
   ],
   "source": [
    "demand_data.head()"
   ]
  },
  {
   "cell_type": "code",
   "execution_count": 43,
   "id": "2e119417",
   "metadata": {},
   "outputs": [],
   "source": [
    "demand_data['Date'] = pd.to_datetime(demand_data['Date'])"
   ]
  },
  {
   "cell_type": "code",
   "execution_count": 44,
   "id": "a75209d8",
   "metadata": {},
   "outputs": [],
   "source": [
    "demand_data.set_index('Date', inplace=True)"
   ]
  },
  {
   "cell_type": "code",
   "execution_count": 45,
   "id": "2768e317",
   "metadata": {},
   "outputs": [
    {
     "ename": "NameError",
     "evalue": "name 'plt' is not defined",
     "output_type": "error",
     "traceback": [
      "\u001b[1;31m---------------------------------------------------------------------------\u001b[0m",
      "\u001b[1;31mNameError\u001b[0m                                 Traceback (most recent call last)",
      "Cell \u001b[1;32mIn[45], line 2\u001b[0m\n\u001b[0;32m      1\u001b[0m \u001b[38;5;66;03m# Plotting demand over time\u001b[39;00m\n\u001b[1;32m----> 2\u001b[0m \u001b[43mplt\u001b[49m\u001b[38;5;241m.\u001b[39mfigure(figsize\u001b[38;5;241m=\u001b[39m(\u001b[38;5;241m10\u001b[39m, \u001b[38;5;241m6\u001b[39m))\n\u001b[0;32m      3\u001b[0m plt\u001b[38;5;241m.\u001b[39mplot(demand_data[\u001b[38;5;124m'\u001b[39m\u001b[38;5;124mDemand\u001b[39m\u001b[38;5;124m'\u001b[39m], label\u001b[38;5;241m=\u001b[39m\u001b[38;5;124m'\u001b[39m\u001b[38;5;124mDemand\u001b[39m\u001b[38;5;124m'\u001b[39m, color\u001b[38;5;241m=\u001b[39m\u001b[38;5;124m'\u001b[39m\u001b[38;5;124mblue\u001b[39m\u001b[38;5;124m'\u001b[39m)\n\u001b[0;32m      4\u001b[0m plt\u001b[38;5;241m.\u001b[39mxlabel(\u001b[38;5;124m'\u001b[39m\u001b[38;5;124mDate\u001b[39m\u001b[38;5;124m'\u001b[39m)\n",
      "\u001b[1;31mNameError\u001b[0m: name 'plt' is not defined"
     ]
    }
   ],
   "source": [
    "# Plotting demand over time\n",
    "plt.figure(figsize=(10, 6))\n",
    "plt.plot(demand_data['Demand'], label='Demand', color='blue')\n",
    "plt.xlabel('Date')\n",
    "plt.ylabel('Demand')\n",
    "plt.title('Demand Over Time')\n",
    "plt.legend()\n",
    "plt.grid(True)\n",
    "plt.show()"
   ]
  },
  {
   "cell_type": "code",
   "execution_count": null,
   "id": "481904d1",
   "metadata": {
    "scrolled": false
   },
   "outputs": [],
   "source": [
    "# Plotting demand distribution by mode of transport\n",
    "plt.figure(figsize=(10, 6))\n",
    "demand_data.groupby('Mode of Transport')['Demand'].sum().plot(kind='bar', color='green')\n",
    "plt.xlabel('Mode of Transport')\n",
    "plt.ylabel('Total Demand')\n",
    "plt.title('Total Demand by Mode of Transport')\n",
    "plt.xticks(rotation=45)\n",
    "plt.grid(axis='y')\n",
    "plt.show()"
   ]
  },
  {
   "cell_type": "code",
   "execution_count": null,
   "id": "7991cda4",
   "metadata": {},
   "outputs": [],
   "source": [
    "# Plotting demand trend by weeks\n",
    "weekly_demand = demand_data.groupby('Weeks')['Demand'].sum()\n",
    "plt.figure(figsize=(10, 6))\n",
    "plt.plot(weekly_demand, marker='o', color='orange')\n",
    "plt.xlabel('Weeks')\n",
    "plt.ylabel('Total Demand')\n",
    "plt.title('Weekly Demand Trend')\n",
    "plt.grid(True)\n",
    "plt.show()"
   ]
  },
  {
   "cell_type": "markdown",
   "id": "7231d974",
   "metadata": {},
   "source": [
    "# Visulisation for the second dataset:demographic_data"
   ]
  },
  {
   "cell_type": "code",
   "execution_count": null,
   "id": "fe29dd91",
   "metadata": {},
   "outputs": [],
   "source": [
    "demographic_data.head()"
   ]
  },
  {
   "cell_type": "code",
   "execution_count": null,
   "id": "1c98a3d6",
   "metadata": {},
   "outputs": [],
   "source": [
    "demographic_data.head()"
   ]
  },
  {
   "cell_type": "code",
   "execution_count": null,
   "id": "c9bbdc3d",
   "metadata": {},
   "outputs": [],
   "source": [
    "demographic_data.set_index('Year', inplace=True)"
   ]
  },
  {
   "cell_type": "code",
   "execution_count": null,
   "id": "8e2e9995",
   "metadata": {},
   "outputs": [],
   "source": [
    "demographic_data.head()"
   ]
  },
  {
   "cell_type": "code",
   "execution_count": null,
   "id": "21a60bf3",
   "metadata": {},
   "outputs": [],
   "source": [
    "# Plotting Age Group Distribution\n",
    "plt.figure(figsize=(10, 6))\n",
    "demographic_data.groupby('Age Group')['Demand %'].mean().plot(kind='bar', color='purple')\n",
    "plt.xlabel('Age Group')\n",
    "plt.ylabel('Average Demand %')\n",
    "plt.title('Average Demand % by Age Group')\n",
    "plt.xticks(rotation=45)\n",
    "plt.grid(axis='y')\n",
    "plt.show()"
   ]
  },
  {
   "cell_type": "code",
   "execution_count": null,
   "id": "5aac6be1",
   "metadata": {},
   "outputs": [],
   "source": [
    "# Plotting Sex Distribution\n",
    "plt.figure(figsize=(10, 6))\n",
    "demographic_data.groupby('Sex')['Demand %'].mean().plot(kind='pie', autopct='%1.1f%%', colors=['lightcoral', 'lightblue'])\n",
    "plt.title('Demand % Distribution by Sex')\n",
    "plt.ylabel('')\n",
    "plt.show()"
   ]
  },
  {
   "cell_type": "code",
   "execution_count": null,
   "id": "9b3d14b6",
   "metadata": {},
   "outputs": [],
   "source": [
    "# Plotting Statistic Label Trend over Time\n",
    "statistic_labels = demographic_data['Statistic Label'].unique()\n",
    "plt.figure(figsize=(12, 8))\n",
    "for label in statistic_labels:\n",
    "    label_data = demographic_data[demographic_data['Statistic Label'] == label]\n",
    "    plt.plot(label_data.index, label_data['Demand %'], label=label)\n",
    "plt.xlabel('Year')\n",
    "plt.ylabel('Demand %')\n",
    "plt.title('Demand % Trend for Different Statistic Labels')\n",
    "plt.legend()\n",
    "plt.grid(True)\n",
    "plt.show()"
   ]
  },
  {
   "cell_type": "markdown",
   "id": "8cce46a2",
   "metadata": {},
   "source": [
    "# Visulisation for the third dataset:weather_data"
   ]
  },
  {
   "cell_type": "code",
   "execution_count": null,
   "id": "ac067498",
   "metadata": {},
   "outputs": [],
   "source": [
    "weather_data['date'] = pd.to_datetime(weather_data['date'])"
   ]
  },
  {
   "cell_type": "code",
   "execution_count": null,
   "id": "ab256c79",
   "metadata": {},
   "outputs": [],
   "source": [
    "weather_data.set_index('date', inplace=True)"
   ]
  },
  {
   "cell_type": "code",
   "execution_count": null,
   "id": "36a63a54",
   "metadata": {},
   "outputs": [],
   "source": [
    "# Plotting Rain over Time\n",
    "plt.figure(figsize=(10, 6))\n",
    "plt.plot(weather_data['Rain'], label='Rain', color='blue')\n",
    "plt.xlabel('Date')\n",
    "plt.ylabel('Rain')\n",
    "plt.title('Rain Over Time')\n",
    "plt.legend()\n",
    "plt.grid(True)\n",
    "plt.show()"
   ]
  },
  {
   "cell_type": "code",
   "execution_count": null,
   "id": "daf2329a",
   "metadata": {
    "scrolled": false
   },
   "outputs": [],
   "source": [
    "# Plotting Temperature Trend over Time\n",
    "plt.figure(figsize=(15, 22))\n",
    "plt.plot(weather_data['Temperature(c)'], label='Temperature', color='red')\n",
    "plt.xlabel('Date')\n",
    "plt.ylabel('Temperature (°C)')\n",
    "plt.title('Temperature Trend Over Time')\n",
    "plt.legend()\n",
    "plt.grid(True)\n",
    "plt.show()"
   ]
  },
  {
   "cell_type": "code",
   "execution_count": null,
   "id": "1e842e16",
   "metadata": {},
   "outputs": [],
   "source": [
    "# Plotting Soil Distribution\n",
    "plt.figure(figsize=(10, 6))\n",
    "weather_data['Soil'].hist(bins=20, color='green')\n",
    "plt.xlabel('Soil')\n",
    "plt.ylabel('Frequency')\n",
    "plt.title('Soil Distribution')\n",
    "plt.grid(True)\n",
    "plt.show()"
   ]
  },
  {
   "cell_type": "markdown",
   "id": "04b6a116",
   "metadata": {},
   "source": [
    "# Inclusive Preprocessing Methodology"
   ]
  },
  {
   "cell_type": "code",
   "execution_count": null,
   "id": "ea246d46",
   "metadata": {},
   "outputs": [],
   "source": [
    "demand_data.head()"
   ]
  },
  {
   "cell_type": "code",
   "execution_count": null,
   "id": "24a620b8",
   "metadata": {},
   "outputs": [],
   "source": [
    "demographic_data.head()"
   ]
  },
  {
   "cell_type": "code",
   "execution_count": null,
   "id": "b425f010",
   "metadata": {},
   "outputs": [],
   "source": [
    "weather_data.head()"
   ]
  },
  {
   "cell_type": "code",
   "execution_count": null,
   "id": "6b128b24",
   "metadata": {},
   "outputs": [],
   "source": [
    "# Checking indexing\n",
    "print(demand_data.index)\n",
    "print(demographic_data.index)\n",
    "print(weather_data.index)"
   ]
  },
  {
   "cell_type": "code",
   "execution_count": null,
   "id": "dfc1dd00",
   "metadata": {},
   "outputs": [],
   "source": [
    "# Resetting indexing\n",
    "demand_data = demand_data.reset_index()\n",
    "demographic_data = demographic_data.reset_index()\n",
    "weather_data = weather_data.reset_index()"
   ]
  },
  {
   "cell_type": "code",
   "execution_count": null,
   "id": "7c9cd3db",
   "metadata": {},
   "outputs": [],
   "source": [
    "demand_data.head()"
   ]
  },
  {
   "cell_type": "code",
   "execution_count": null,
   "id": "44d78ce4",
   "metadata": {},
   "outputs": [],
   "source": [
    "demographic_data.head()"
   ]
  },
  {
   "cell_type": "code",
   "execution_count": null,
   "id": "a0f7e95e",
   "metadata": {},
   "outputs": [],
   "source": [
    "weather_data.head()"
   ]
  },
  {
   "cell_type": "code",
   "execution_count": null,
   "id": "147c640b",
   "metadata": {},
   "outputs": [],
   "source": [
    "print(demand_data.head())\n",
    "print(demographic_data.head())\n",
    "print(weather_data.head())"
   ]
  },
  {
   "cell_type": "code",
   "execution_count": null,
   "id": "488ecc90",
   "metadata": {},
   "outputs": [],
   "source": [
    "# Renamming the columns in demographic_data to match demand_data for merging\n",
    "demographic_data.rename(columns={'Statistic Label': 'Mode of Transport'}, inplace=True)"
   ]
  },
  {
   "cell_type": "code",
   "execution_count": null,
   "id": "6c1e329f",
   "metadata": {},
   "outputs": [],
   "source": [
    "# merging the datasets\n",
    "merged_data = pd.concat([demand_data, demographic_data, weather_data], ignore_index=True)"
   ]
  },
  {
   "cell_type": "code",
   "execution_count": null,
   "id": "eae4cc1c",
   "metadata": {},
   "outputs": [],
   "source": [
    "# Sorting the concatenated_data by the Date column\n",
    "merged_data.sort_values(by='Date', inplace=True)"
   ]
  },
  {
   "cell_type": "code",
   "execution_count": null,
   "id": "84e103a2",
   "metadata": {},
   "outputs": [],
   "source": [
    "# Resetting the index of the merged data\n",
    "merged_data.reset_index(drop=True, inplace=True)"
   ]
  },
  {
   "cell_type": "code",
   "execution_count": null,
   "id": "3893da27",
   "metadata": {},
   "outputs": [],
   "source": [
    "merged_data"
   ]
  },
  {
   "cell_type": "code",
   "execution_count": null,
   "id": "c16d1564",
   "metadata": {},
   "outputs": [],
   "source": [
    "# Dropping the date column to make it easier\n",
    "merged_data.drop(['date'], axis = 1, inplace = True)"
   ]
  },
  {
   "cell_type": "code",
   "execution_count": null,
   "id": "ca259bb6",
   "metadata": {},
   "outputs": [],
   "source": [
    "merged_data"
   ]
  },
  {
   "cell_type": "code",
   "execution_count": null,
   "id": "fc34ac6d",
   "metadata": {},
   "outputs": [],
   "source": [
    "# Dealing with missing values with random values from the same column \n",
    "for column in merged_data.columns:\n",
    "    non_null_values = merged_data[column].dropna()\n",
    "    num_missing_values = merged_data[column].isnull().sum()\n",
    "    if num_missing_values > 0:\n",
    "        random_fill_values = np.random.choice(non_null_values, num_missing_values)\n",
    "        merged_data[column][merged_data[column].isnull()] = random_fill_values"
   ]
  },
  {
   "cell_type": "code",
   "execution_count": null,
   "id": "f0b24b2d",
   "metadata": {},
   "outputs": [],
   "source": [
    "# Converting the date colum to datetime\n",
    "merged_data['Date'] = pd.to_datetime(merged_data['Date'])"
   ]
  },
  {
   "cell_type": "code",
   "execution_count": null,
   "id": "fbf16bd3",
   "metadata": {},
   "outputs": [],
   "source": [
    "# Extracting Weeks number to arrange according to Date column \n",
    "merged_data['Weeks'] = merged_data['Date'].dt.strftime('%U')"
   ]
  },
  {
   "cell_type": "code",
   "execution_count": null,
   "id": "fe5ba98d",
   "metadata": {},
   "outputs": [],
   "source": [
    "# Sorting the dataset according to the Date column \n",
    "merged_data.sort_values(by='Date', inplace=True)"
   ]
  },
  {
   "cell_type": "code",
   "execution_count": null,
   "id": "f0ee6504",
   "metadata": {},
   "outputs": [],
   "source": [
    "# Resetting the index\n",
    "merged_data.reset_index(drop=True, inplace=True)"
   ]
  },
  {
   "cell_type": "code",
   "execution_count": null,
   "id": "63731235",
   "metadata": {
    "scrolled": false
   },
   "outputs": [],
   "source": [
    "merged_data.head()"
   ]
  },
  {
   "cell_type": "markdown",
   "id": "4a496858",
   "metadata": {},
   "source": [
    "# Detecting and addressing outliers that might affect the model's performance."
   ]
  },
  {
   "cell_type": "code",
   "execution_count": null,
   "id": "8a985021",
   "metadata": {},
   "outputs": [],
   "source": [
    "# Specifying columns to consider for outlier detection\n",
    "numerical_columns = ['Demand', 'Demand %','Indicator','Rain', 'Temperature(c)', 'Soil']"
   ]
  },
  {
   "cell_type": "code",
   "execution_count": null,
   "id": "81f1b0d1",
   "metadata": {},
   "outputs": [],
   "source": [
    "# Calculating z-scores for each numerical column\n",
    "z_scores = np.abs((merged_data[numerical_columns] - merged_data[numerical_columns].mean()) / merged_data[numerical_columns].std())"
   ]
  },
  {
   "cell_type": "code",
   "execution_count": null,
   "id": "9b592286",
   "metadata": {},
   "outputs": [],
   "source": [
    "print(\"Z-Scores:\")\n",
    "print(z_scores)"
   ]
  },
  {
   "cell_type": "code",
   "execution_count": null,
   "id": "23091e38",
   "metadata": {},
   "outputs": [],
   "source": [
    "# Setting a threshold for outlier detection\n",
    "outlier_threshold = 3"
   ]
  },
  {
   "cell_type": "code",
   "execution_count": null,
   "id": "a31e70f1",
   "metadata": {},
   "outputs": [],
   "source": [
    "# Creating a mask for outliers\n",
    "outlier_mask = z_scores > outlier_threshold"
   ]
  },
  {
   "cell_type": "code",
   "execution_count": null,
   "id": "43997ebb",
   "metadata": {},
   "outputs": [],
   "source": [
    "# Dropping rows with outliers\n",
    "merged_data = merged_data[~outlier_mask.any(axis=1)]"
   ]
  },
  {
   "cell_type": "code",
   "execution_count": null,
   "id": "31588838",
   "metadata": {
    "scrolled": false
   },
   "outputs": [],
   "source": [
    "merged_data.head()"
   ]
  },
  {
   "cell_type": "markdown",
   "id": "10376950",
   "metadata": {},
   "source": [
    "# Standardising numerical features to ensure consistent scaling."
   ]
  },
  {
   "cell_type": "code",
   "execution_count": null,
   "id": "d6d3ac99",
   "metadata": {},
   "outputs": [],
   "source": [
    "# Specifying columns to Standadise\n",
    "numerical_columns = ['Demand', 'Demand %','Indicator','Rain', 'Temperature(c)', 'Soil']"
   ]
  },
  {
   "cell_type": "code",
   "execution_count": null,
   "id": "234d0728",
   "metadata": {},
   "outputs": [],
   "source": [
    "scaler = MinMaxScaler()"
   ]
  },
  {
   "cell_type": "code",
   "execution_count": null,
   "id": "774f26af",
   "metadata": {},
   "outputs": [],
   "source": [
    "# Fitting the scaler on the data and transforming the selected columns\n",
    "merged_data[numerical_columns] = scaler.fit_transform(merged_data[numerical_columns])"
   ]
  },
  {
   "cell_type": "code",
   "execution_count": null,
   "id": "dd34cc4d",
   "metadata": {
    "scrolled": false
   },
   "outputs": [],
   "source": [
    "merged_data.head()"
   ]
  },
  {
   "cell_type": "markdown",
   "id": "78f064d1",
   "metadata": {},
   "source": [
    "# Encoding categorical variables using one-hot encoding and label Encoder"
   ]
  },
  {
   "cell_type": "code",
   "execution_count": null,
   "id": "eedede92",
   "metadata": {},
   "outputs": [],
   "source": [
    "# Specifying columns to encode\n",
    "categorical_columns = ['Mode of Transport','Statistic Label', 'Sex', 'Age Group','Soil','Demand %','Temperature(c)']"
   ]
  },
  {
   "cell_type": "code",
   "execution_count": null,
   "id": "39066083",
   "metadata": {},
   "outputs": [],
   "source": [
    "# Perform one-hot encoding method\n",
    "one_hot_encoded = pd.get_dummies(merged_data, columns=categorical_columns, drop_first=True)"
   ]
  },
  {
   "cell_type": "code",
   "execution_count": null,
   "id": "b273a809",
   "metadata": {},
   "outputs": [],
   "source": [
    "# Encode categorical columns\n",
    "label_encoder = LabelEncoder()\n",
    "for col in categorical_columns:\n",
    "    merged_data[col] = label_encoder.fit_transform(merged_data[col])"
   ]
  },
  {
   "cell_type": "code",
   "execution_count": null,
   "id": "a18fec40",
   "metadata": {},
   "outputs": [],
   "source": [
    "merged_data"
   ]
  },
  {
   "cell_type": "markdown",
   "id": "1029cc20",
   "metadata": {},
   "source": [
    "# Perform feature selection to identify the most relevant features for the predictive models of my dataset"
   ]
  },
  {
   "cell_type": "markdown",
   "id": "bee9ee96",
   "metadata": {},
   "source": [
    "# Correlation Analysis:"
   ]
  },
  {
   "cell_type": "code",
   "execution_count": null,
   "id": "edeb2c80",
   "metadata": {},
   "outputs": [],
   "source": [
    "# Calculating correlations\n",
    "correlation_matrix = merged_data.corr()"
   ]
  },
  {
   "cell_type": "code",
   "execution_count": null,
   "id": "591e1f1b",
   "metadata": {},
   "outputs": [],
   "source": [
    "# Sorting features by their correlation with the target variable\n",
    "correlation_with_target = correlation_matrix['Demand'].abs().sort_values(ascending=False)"
   ]
  },
  {
   "cell_type": "code",
   "execution_count": null,
   "id": "ee8f0a84",
   "metadata": {},
   "outputs": [],
   "source": [
    "# Selecting top N relevant features\n",
    "top_features = correlation_with_target[1:6].index.tolist()"
   ]
  },
  {
   "cell_type": "markdown",
   "id": "8ecde09f",
   "metadata": {},
   "source": [
    "# Feature Importance from Models:"
   ]
  },
  {
   "cell_type": "code",
   "execution_count": null,
   "id": "7f32f6c2",
   "metadata": {},
   "outputs": [],
   "source": [
    "# Separating features and target\n",
    "X = merged_data.drop(columns=['Demand'])\n",
    "y = merged_data['Demand']"
   ]
  },
  {
   "cell_type": "code",
   "execution_count": null,
   "id": "bb974565",
   "metadata": {},
   "outputs": [],
   "source": [
    "# Encoding categorical variables using one-hot encoding\n",
    "X_encoded = pd.get_dummies(X, columns=['Mode of Transport','Statistic Label', 'Sex', 'Age Group'])"
   ]
  },
  {
   "cell_type": "code",
   "execution_count": null,
   "id": "72443086",
   "metadata": {},
   "outputs": [],
   "source": [
    "# Splitting the data into train and test sets\n",
    "X_train, X_test, y_train, y_test = train_test_split(X_encoded, y, test_size=0.2, random_state=42)"
   ]
  },
  {
   "cell_type": "code",
   "execution_count": null,
   "id": "78b01ab7",
   "metadata": {},
   "outputs": [],
   "source": [
    "print(X_train.dtypes)"
   ]
  },
  {
   "cell_type": "code",
   "execution_count": null,
   "id": "28bbfdfa",
   "metadata": {},
   "outputs": [],
   "source": [
    "X_train['Year'] = X_train['Date'].dt.year\n",
    "X_train['Month'] = X_train['Date'].dt.month\n",
    "X_train['Day'] = X_train['Date'].dt.day\n",
    "X_train.drop(columns=['Date'], inplace=True)"
   ]
  },
  {
   "cell_type": "code",
   "execution_count": null,
   "id": "8388aa84",
   "metadata": {},
   "outputs": [],
   "source": [
    "# Trainning a RandomForestRegressor model\n",
    "model = RandomForestRegressor(n_estimators=100, random_state=42)\n",
    "model.fit(X_train, y_train)"
   ]
  },
  {
   "cell_type": "code",
   "execution_count": null,
   "id": "3b7da10a",
   "metadata": {},
   "outputs": [],
   "source": [
    "# Getting the feature importance scores\n",
    "feature_importances = model.feature_importances_"
   ]
  },
  {
   "cell_type": "code",
   "execution_count": null,
   "id": "5c95663e",
   "metadata": {},
   "outputs": [],
   "source": [
    "# Getting the columns from X_train after one-hot encoding\n",
    "encoded_columns = X_train.columns"
   ]
  },
  {
   "cell_type": "code",
   "execution_count": null,
   "id": "44566fa3",
   "metadata": {},
   "outputs": [],
   "source": [
    "# Creating a DataFrame for feature importances using the correct columns\n",
    "feature_importance_df = pd.DataFrame({'Feature': encoded_columns, 'Importance': feature_importances})"
   ]
  },
  {
   "cell_type": "code",
   "execution_count": null,
   "id": "874e2ec4",
   "metadata": {},
   "outputs": [],
   "source": [
    "# Sortting the features by importance\n",
    "feature_importance_df = feature_importance_df.sort_values(by='Importance', ascending=False)"
   ]
  },
  {
   "cell_type": "code",
   "execution_count": null,
   "id": "15327df5",
   "metadata": {},
   "outputs": [],
   "source": [
    "# Plotting feature importance\n",
    "plt.figure(figsize=(10, 6))\n",
    "plt.barh(feature_importance_df['Feature'], feature_importance_df['Importance'])\n",
    "plt.xlabel('Importance')\n",
    "plt.ylabel('Feature')\n",
    "plt.title('Feature Importance from Model')\n",
    "plt.show()"
   ]
  },
  {
   "cell_type": "markdown",
   "id": "ffe7d087",
   "metadata": {},
   "source": [
    "# Exploring different ML models for our datset"
   ]
  },
  {
   "cell_type": "code",
   "execution_count": null,
   "id": "c42da7a3",
   "metadata": {},
   "outputs": [],
   "source": [
    "# Converting Date column to datetime type\n",
    "merged_data['Date'] = pd.to_datetime(merged_data['Date'])"
   ]
  },
  {
   "cell_type": "code",
   "execution_count": null,
   "id": "1b1d2506",
   "metadata": {},
   "outputs": [],
   "source": [
    "# Calculating the number of days since one reference date\n",
    "reference_date = merged_data['Date'].min()\n",
    "merged_data['Days_Since_Reference'] = (merged_data['Date'] - reference_date).dt.days"
   ]
  },
  {
   "cell_type": "code",
   "execution_count": null,
   "id": "395c3bcc",
   "metadata": {},
   "outputs": [],
   "source": [
    "# Defining features and target variable\n",
    "X = merged_data.drop(['Demand', 'Date'], axis=1)\n",
    "y = merged_data['Demand']"
   ]
  },
  {
   "cell_type": "markdown",
   "id": "5ad5f768",
   "metadata": {},
   "source": [
    "# Linear Regression:"
   ]
  },
  {
   "cell_type": "code",
   "execution_count": null,
   "id": "a177a069",
   "metadata": {},
   "outputs": [],
   "source": [
    "from sklearn.model_selection import train_test_split\n",
    "from sklearn.linear_model import LinearRegression\n",
    "from sklearn.metrics import mean_squared_error"
   ]
  },
  {
   "cell_type": "code",
   "execution_count": null,
   "id": "209b452e",
   "metadata": {},
   "outputs": [],
   "source": [
    "X_train, X_test, y_train, y_test = train_test_split(X, y, test_size=0.2, random_state=42)"
   ]
  },
  {
   "cell_type": "code",
   "execution_count": null,
   "id": "85993e3d",
   "metadata": {},
   "outputs": [],
   "source": [
    "model = LinearRegression()\n",
    "model.fit(X_train, y_train)\n",
    "predictions = model.predict(X_test)"
   ]
  },
  {
   "cell_type": "code",
   "execution_count": null,
   "id": "29d3723b",
   "metadata": {},
   "outputs": [],
   "source": [
    "# Making predictions\n",
    "predictions = model.predict(X_test)"
   ]
  },
  {
   "cell_type": "code",
   "execution_count": null,
   "id": "ccf9d1ea",
   "metadata": {},
   "outputs": [],
   "source": [
    "mse = mean_squared_error(y_test, predictions)\n",
    "print(\"Linear Regression MSE:\", mse)"
   ]
  },
  {
   "cell_type": "code",
   "execution_count": null,
   "id": "97de3221",
   "metadata": {},
   "outputs": [],
   "source": [
    "# Scatter plot for actual vs predicted values\n",
    "plt.figure(figsize=(10, 6))\n",
    "plt.scatter(y_test, predictions, color='blue')\n",
    "plt.xlabel('Actual Demand')\n",
    "plt.ylabel('Predicted Demand')\n",
    "plt.title('Actual vs. Predicted Demand')\n",
    "plt.grid(True)\n",
    "plt.show()"
   ]
  },
  {
   "cell_type": "markdown",
   "id": "0ccbb52e",
   "metadata": {},
   "source": [
    "# Decision Trees:"
   ]
  },
  {
   "cell_type": "code",
   "execution_count": null,
   "id": "2b91f8e6",
   "metadata": {},
   "outputs": [],
   "source": [
    "from sklearn.model_selection import train_test_split\n",
    "from sklearn.tree import DecisionTreeRegressor\n",
    "from sklearn.metrics import mean_squared_error"
   ]
  },
  {
   "cell_type": "code",
   "execution_count": null,
   "id": "76dfd5e8",
   "metadata": {},
   "outputs": [],
   "source": [
    "X_train, X_test, y_train, y_test = train_test_split(X, y, test_size=0.2, random_state=42)"
   ]
  },
  {
   "cell_type": "code",
   "execution_count": null,
   "id": "6a88652b",
   "metadata": {},
   "outputs": [],
   "source": [
    "model = DecisionTreeRegressor()\n",
    "model.fit(X_train, y_train)\n",
    "predictions = model.predict(X_test)"
   ]
  },
  {
   "cell_type": "code",
   "execution_count": null,
   "id": "7a62d5f0",
   "metadata": {},
   "outputs": [],
   "source": [
    "mse = mean_squared_error(y_test, predictions)\n",
    "print(\"Decision Tree MSE:\", mse)"
   ]
  },
  {
   "cell_type": "code",
   "execution_count": null,
   "id": "edc6116d",
   "metadata": {},
   "outputs": [],
   "source": [
    "# Scatter plot for actual vs predicted values\n",
    "plt.figure(figsize=(10, 6))\n",
    "plt.scatter(y_test, predictions, color='green')\n",
    "plt.xlabel('Actual Demand')\n",
    "plt.ylabel('Predicted Demand')\n",
    "plt.title('Actual vs. Predicted Demand (Decision Tree)')\n",
    "plt.grid(True)\n",
    "plt.show()"
   ]
  },
  {
   "cell_type": "markdown",
   "id": "5b6b1c85",
   "metadata": {},
   "source": [
    "# Random Forest:"
   ]
  },
  {
   "cell_type": "code",
   "execution_count": null,
   "id": "8055d45e",
   "metadata": {},
   "outputs": [],
   "source": [
    "from sklearn.model_selection import train_test_split\n",
    "from sklearn.ensemble import RandomForestRegressor\n",
    "from sklearn.metrics import mean_squared_error"
   ]
  },
  {
   "cell_type": "code",
   "execution_count": null,
   "id": "72a894bc",
   "metadata": {},
   "outputs": [],
   "source": [
    "X_train, X_test, y_train, y_test = train_test_split(X, y, test_size=0.2, random_state=42)"
   ]
  },
  {
   "cell_type": "code",
   "execution_count": null,
   "id": "f060e644",
   "metadata": {},
   "outputs": [],
   "source": [
    "model = RandomForestRegressor()\n",
    "model.fit(X_train, y_train)\n",
    "predictions = model.predict(X_test)"
   ]
  },
  {
   "cell_type": "code",
   "execution_count": null,
   "id": "f0c13a91",
   "metadata": {},
   "outputs": [],
   "source": [
    "mse = mean_squared_error(y_test, predictions)\n",
    "print(\"Random Forest MSE:\", mse)"
   ]
  },
  {
   "cell_type": "code",
   "execution_count": null,
   "id": "5e3a70b0",
   "metadata": {},
   "outputs": [],
   "source": [
    "# Scatter plot for actual vs predicted values\n",
    "plt.figure(figsize=(10, 6))\n",
    "plt.scatter(y_test, predictions, color='blue')\n",
    "plt.xlabel('Actual Demand')\n",
    "plt.ylabel('Predicted Demand')\n",
    "plt.title('Actual vs. Predicted Demand (Random Forest)')\n",
    "plt.grid(True)\n",
    "plt.show()"
   ]
  },
  {
   "cell_type": "markdown",
   "id": "0403ceb4",
   "metadata": {},
   "source": [
    "# Neural Networks (using Keras):"
   ]
  },
  {
   "cell_type": "code",
   "execution_count": null,
   "id": "4d1218a7",
   "metadata": {},
   "outputs": [],
   "source": [
    "import numpy as np\n",
    "from sklearn.model_selection import train_test_split\n",
    "from sklearn.preprocessing import StandardScaler\n",
    "import tensorflow as tf\n",
    "from tensorflow.keras.models import Sequential\n",
    "from tensorflow.keras.layers import Dense\n",
    "from sklearn.metrics import mean_squared_error"
   ]
  },
  {
   "cell_type": "code",
   "execution_count": null,
   "id": "0a385848",
   "metadata": {},
   "outputs": [],
   "source": [
    "X_train, X_test, y_train, y_test = train_test_split(X, y, test_size=0.2, random_state=42)"
   ]
  },
  {
   "cell_type": "code",
   "execution_count": null,
   "id": "37423fc2",
   "metadata": {},
   "outputs": [],
   "source": [
    "scaler = StandardScaler()\n",
    "X_train_scaled = scaler.fit_transform(X_train)\n",
    "X_test_scaled = scaler.transform(X_test)"
   ]
  },
  {
   "cell_type": "code",
   "execution_count": null,
   "id": "876e9b3f",
   "metadata": {},
   "outputs": [],
   "source": [
    "model = Sequential()\n",
    "model.add(Dense(64, input_dim=X_train.shape[1], activation='relu'))\n",
    "model.add(Dense(1, activation='linear'))"
   ]
  },
  {
   "cell_type": "code",
   "execution_count": null,
   "id": "25220a1b",
   "metadata": {},
   "outputs": [],
   "source": [
    "model.compile(optimizer='adam', loss='mean_squared_error')\n",
    "model.fit(X_train_scaled, y_train, epochs=100, batch_size=32)"
   ]
  },
  {
   "cell_type": "code",
   "execution_count": null,
   "id": "ddc1ba04",
   "metadata": {},
   "outputs": [],
   "source": [
    "predictions = model.predict(X_test_scaled)\n",
    "mse = mean_squared_error(y_test, predictions)\n",
    "print(\"Neural Network MSE:\", mse)"
   ]
  },
  {
   "cell_type": "code",
   "execution_count": null,
   "id": "5429990f",
   "metadata": {},
   "outputs": [],
   "source": [
    "# Scatter plot for actual vs predicted values\n",
    "plt.figure(figsize=(10, 6))\n",
    "plt.scatter(y_test, predictions, color='blue')\n",
    "plt.xlabel('Actual Demand')\n",
    "plt.ylabel('Predicted Demand')\n",
    "plt.title('Actual vs. Predicted Demand (Neural Network)')\n",
    "plt.grid(True)\n",
    "plt.show()"
   ]
  },
  {
   "cell_type": "markdown",
   "id": "e9044286",
   "metadata": {},
   "source": [
    "# Investigating time series analysis methods, including autoregressive integrated moving average (ARIMA),seasonal decomposition of time series (STL) and long short-term memory networks (LSTM)"
   ]
  },
  {
   "cell_type": "code",
   "execution_count": null,
   "id": "7eb2710d",
   "metadata": {},
   "outputs": [],
   "source": [
    "import pandas as pd\n",
    "import numpy as np\n",
    "import matplotlib.pyplot as plt\n",
    "from statsmodels.tsa.seasonal import seasonal_decompose\n",
    "from pmdarima import auto_arima\n",
    "from sklearn.preprocessing import MinMaxScaler\n",
    "from sklearn.metrics import mean_squared_error\n",
    "from keras.models import Sequential\n",
    "from keras.layers import LSTM, Dense\n",
    "from statsmodels.tsa.arima.model import ARIMA "
   ]
  },
  {
   "cell_type": "code",
   "execution_count": null,
   "id": "ee07d59b",
   "metadata": {},
   "outputs": [],
   "source": [
    "# Converting Date column to datetime type\n",
    "merged_data['Date'] = pd.to_datetime(merged_data['Date'])"
   ]
  },
  {
   "cell_type": "code",
   "execution_count": null,
   "id": "3aa8a27f",
   "metadata": {},
   "outputs": [],
   "source": [
    "# Setting Date as the index\n",
    "merged_data.set_index('Date', inplace=True)"
   ]
  },
  {
   "cell_type": "code",
   "execution_count": null,
   "id": "040c416d",
   "metadata": {},
   "outputs": [],
   "source": [
    "resampled_data = merged_data.resample('W').sum()"
   ]
  },
  {
   "cell_type": "code",
   "execution_count": null,
   "id": "31fbe08c",
   "metadata": {},
   "outputs": [],
   "source": [
    "# Plotting the time series data\n",
    "plt.figure(figsize=(12, 6))\n",
    "plt.plot(resampled_data['Demand'])\n",
    "plt.title('Time Series Plot of Demand')\n",
    "plt.xlabel('Date')\n",
    "plt.ylabel('Demand')\n",
    "plt.show()"
   ]
  },
  {
   "cell_type": "markdown",
   "id": "a3eb7324",
   "metadata": {},
   "source": [
    "# STL"
   ]
  },
  {
   "cell_type": "code",
   "execution_count": null,
   "id": "9590081d",
   "metadata": {},
   "outputs": [],
   "source": [
    "# Seasonal Decomposition using STL\n",
    "result = seasonal_decompose(resampled_data['Demand'], model='additive', period=26)"
   ]
  },
  {
   "cell_type": "code",
   "execution_count": null,
   "id": "8b858273",
   "metadata": {},
   "outputs": [],
   "source": [
    "# Plotting the decomposition components\n",
    "plt.figure(figsize=(12, 8))\n",
    "plt.subplot(4, 1, 1)\n",
    "plt.plot(result.observed)\n",
    "plt.title('Observed')\n",
    "plt.subplot(4, 1, 2)\n",
    "plt.plot(result.trend)\n",
    "plt.title('Trend')\n",
    "plt.subplot(4, 1, 3)\n",
    "plt.plot(result.seasonal)\n",
    "plt.title('Seasonal')\n",
    "plt.subplot(4, 1, 4)\n",
    "plt.plot(result.resid)\n",
    "plt.title('Residual')\n",
    "plt.tight_layout()\n",
    "plt.show()"
   ]
  },
  {
   "cell_type": "markdown",
   "id": "cbf26db4",
   "metadata": {},
   "source": [
    "# ARIMA"
   ]
  },
  {
   "cell_type": "code",
   "execution_count": null,
   "id": "7a1b5d9d",
   "metadata": {},
   "outputs": [],
   "source": [
    "# ARIMA Modeling using auto arima to find optimal parameters\n",
    "stepwise_fit = auto_arima(resampled_data['Demand'], seasonal=True, m=52, trace=True)"
   ]
  },
  {
   "cell_type": "code",
   "execution_count": null,
   "id": "90bc7ed2",
   "metadata": {},
   "outputs": [],
   "source": [
    "# Fitting the ARIMA model\n",
    "order = stepwise_fit.get_params()['order']\n",
    "seasonal_order = stepwise_fit.get_params()['seasonal_order']\n",
    "model = ARIMA(resampled_data['Demand'], order=order, seasonal_order=seasonal_order)\n",
    "arima_result = model.fit()"
   ]
  },
  {
   "cell_type": "code",
   "execution_count": null,
   "id": "61eb4b4e",
   "metadata": {},
   "outputs": [],
   "source": [
    "# Plotting ARIMA forecast\n",
    "plt.figure(figsize=(12, 6))\n",
    "plt.plot(resampled_data.index, resampled_data['Demand'], label='Observed')\n",
    "plt.plot(resampled_data.index, arima_result.predict(typ='levels'), color='red', label='ARIMA Forecast')\n",
    "plt.title('ARIMA Forecast')\n",
    "plt.xlabel('Date')\n",
    "plt.ylabel('Demand')\n",
    "plt.legend()\n",
    "plt.show()"
   ]
  },
  {
   "cell_type": "markdown",
   "id": "08e66fda",
   "metadata": {},
   "source": [
    "# LSTM"
   ]
  },
  {
   "cell_type": "code",
   "execution_count": null,
   "id": "15a2fd65",
   "metadata": {},
   "outputs": [],
   "source": [
    "# Prepare data for LSTM\n",
    "scaler = MinMaxScaler()\n",
    "scaled_data = scaler.fit_transform(np.array(resampled_data['Demand']).reshape(-1, 1))"
   ]
  },
  {
   "cell_type": "code",
   "execution_count": null,
   "id": "5a457610",
   "metadata": {},
   "outputs": [],
   "source": [
    "# Split data into train and test sets\n",
    "train_size = int(len(scaled_data) * 0.8)\n",
    "train_data, test_data = scaled_data[:train_size], scaled_data[train_size:]"
   ]
  },
  {
   "cell_type": "code",
   "execution_count": null,
   "id": "305f89b9",
   "metadata": {},
   "outputs": [],
   "source": [
    "# Creating sequences for LSTM\n",
    "def create_sequences(data, seq_length):\n",
    "    X, y = [], []\n",
    "    for i in range(len(data) - seq_length):\n",
    "        X.append(data[i:i+seq_length])\n",
    "        y.append(data[i+seq_length])\n",
    "    return np.array(X), np.array(y)\n",
    "\n",
    "seq_length = 10\n",
    "X_train, y_train = create_sequences(train_data, seq_length)\n",
    "X_test, y_test = create_sequences(test_data, seq_length)"
   ]
  },
  {
   "cell_type": "code",
   "execution_count": null,
   "id": "87e7968d",
   "metadata": {},
   "outputs": [],
   "source": [
    "# Build LSTM model\n",
    "model_lstm = Sequential()\n",
    "model_lstm.add(LSTM(50, activation='relu', input_shape=(seq_length, 1)))\n",
    "model_lstm.add(Dense(1))\n",
    "model_lstm.compile(optimizer='adam', loss='mse')"
   ]
  },
  {
   "cell_type": "code",
   "execution_count": null,
   "id": "7c9ff8bc",
   "metadata": {},
   "outputs": [],
   "source": [
    "# Trainning LSTM model\n",
    "model_lstm.fit(X_train, y_train, epochs=50, batch_size=16, verbose=1)"
   ]
  },
  {
   "cell_type": "code",
   "execution_count": null,
   "id": "a9cd96e7",
   "metadata": {},
   "outputs": [],
   "source": [
    "# Making predictions using LSTM model\n",
    "y_pred = model_lstm.predict(X_test)"
   ]
  },
  {
   "cell_type": "code",
   "execution_count": null,
   "id": "93d8d6a7",
   "metadata": {},
   "outputs": [],
   "source": [
    "# Inverse transform predictions for comparison\n",
    "y_pred_inv = scaler.inverse_transform(y_pred)\n",
    "y_test_inv = scaler.inverse_transform(y_test)"
   ]
  },
  {
   "cell_type": "code",
   "execution_count": null,
   "id": "fb84ad85",
   "metadata": {},
   "outputs": [],
   "source": [
    "# Calculating RMSE for LSTM\n",
    "rmse_lstm = np.sqrt(mean_squared_error(y_test_inv, y_pred_inv))\n",
    "print(f'RMSE for LSTM: {rmse_lstm}')"
   ]
  },
  {
   "cell_type": "code",
   "execution_count": null,
   "id": "690bbb62",
   "metadata": {
    "scrolled": false
   },
   "outputs": [],
   "source": [
    "# Plotting LSTM predictions\n",
    "plt.figure(figsize=(12, 6))\n",
    "plt.plot(resampled_data.index[train_size+seq_length:], y_test_inv, label='True Values')\n",
    "plt.plot(resampled_data.index[train_size+seq_length:], y_pred_inv, label='LSTM Predictions', color='red')\n",
    "plt.title('LSTM Predictions')\n",
    "plt.xlabel('Date')\n",
    "plt.ylabel('Demand')\n",
    "plt.legend()\n",
    "plt.show()"
   ]
  },
  {
   "cell_type": "markdown",
   "id": "3f5e9bf4",
   "metadata": {},
   "source": [
    "# Supervised Machine Learning"
   ]
  },
  {
   "cell_type": "code",
   "execution_count": null,
   "id": "74deb6cf",
   "metadata": {},
   "outputs": [],
   "source": [
    "import pandas as pd\n",
    "import numpy as np\n",
    "from sklearn.model_selection import train_test_split\n",
    "from sklearn.preprocessing import StandardScaler\n",
    "from sklearn.linear_model import LinearRegression, LogisticRegression\n",
    "from sklearn.tree import DecisionTreeRegressor, DecisionTreeClassifier\n",
    "from sklearn.metrics import accuracy_score, precision_score, recall_score, f1_score, mean_squared_error"
   ]
  },
  {
   "cell_type": "code",
   "execution_count": null,
   "id": "e7694fcc",
   "metadata": {},
   "outputs": [],
   "source": [
    "X = merged_data.drop(['Demand %'], axis=1) \n",
    "y = merged_data['Demand %'] "
   ]
  },
  {
   "cell_type": "code",
   "execution_count": null,
   "id": "f9ab652b",
   "metadata": {},
   "outputs": [],
   "source": [
    "# Splitting the data into training and testing sets\n",
    "X_train, X_test, y_train, y_test = train_test_split(X, y, test_size=0.2, random_state=42)"
   ]
  },
  {
   "cell_type": "code",
   "execution_count": null,
   "id": "44a9a9e6",
   "metadata": {},
   "outputs": [],
   "source": [
    "# Preprocessing\n",
    "scaler = StandardScaler()\n",
    "X_train_scaled = scaler.fit_transform(X_train)\n",
    "X_test_scaled = scaler.transform(X_test)"
   ]
  },
  {
   "cell_type": "code",
   "execution_count": null,
   "id": "15dff00a",
   "metadata": {},
   "outputs": [],
   "source": [
    "# Regression Models\n",
    "regressors = {\n",
    "    'Linear Regression': LinearRegression(),\n",
    "    'Decision Tree Regressor': DecisionTreeRegressor(random_state=42)\n",
    "}"
   ]
  },
  {
   "cell_type": "code",
   "execution_count": null,
   "id": "686d0929",
   "metadata": {},
   "outputs": [],
   "source": [
    "for name, model in regressors.items():\n",
    "    # Trainning the model\n",
    "    model.fit(X_train_scaled, y_train)\n",
    "    \n",
    "    # Predict on the test set\n",
    "    y_pred = model.predict(X_test_scaled)\n",
    "    \n",
    "    # Evaluate the model\n",
    "    rmse = np.sqrt(mean_squared_error(y_test, y_pred))\n",
    "    print(f'{name}: RMSE = {rmse}')"
   ]
  },
  {
   "cell_type": "code",
   "execution_count": null,
   "id": "a0e5f441",
   "metadata": {},
   "outputs": [],
   "source": [
    "# Classification Models\n",
    "classifiers = {\n",
    "    'Logistic Regression': LogisticRegression(random_state=42),\n",
    "    'Decision Tree Classifier': DecisionTreeClassifier(random_state=42)\n",
    "}"
   ]
  },
  {
   "cell_type": "code",
   "execution_count": null,
   "id": "c0add69d",
   "metadata": {},
   "outputs": [],
   "source": [
    "# Mode of Transportfor classification\n",
    "y_train_class = (y_train > 0.5).astype(int)\n",
    "y_test_class = (y_test > 0.5).astype(int)"
   ]
  },
  {
   "cell_type": "code",
   "execution_count": null,
   "id": "14b22197",
   "metadata": {},
   "outputs": [],
   "source": [
    "for name, model in classifiers.items():\n",
    "    # Train the model\n",
    "    model.fit(X_train_scaled, y_train_class)\n",
    "    \n",
    "    # Predict on the test set\n",
    "    y_pred_class = model.predict(X_test_scaled)"
   ]
  },
  {
   "cell_type": "code",
   "execution_count": null,
   "id": "7ab16ac8",
   "metadata": {},
   "outputs": [],
   "source": [
    "    # Evaluate the model\n",
    "    accuracy = accuracy_score(y_test_class, y_pred_class)\n",
    "    precision = precision_score(y_test_class, y_pred_class)\n",
    "    recall = recall_score(y_test_class, y_pred_class)\n",
    "    f1 = f1_score(y_test_class, y_pred_class)"
   ]
  },
  {
   "cell_type": "code",
   "execution_count": null,
   "id": "58c51869",
   "metadata": {},
   "outputs": [],
   "source": [
    "print(f'{name}: Accuracy = {accuracy}, Precision = {precision}, Recall = {recall}, F1-score = {f1}')"
   ]
  },
  {
   "cell_type": "markdown",
   "id": "c34beeec",
   "metadata": {},
   "source": [
    "# Hyperparameter Tuning and Grid Search Cross-Validation"
   ]
  },
  {
   "cell_type": "code",
   "execution_count": null,
   "id": "aa46548f",
   "metadata": {},
   "outputs": [],
   "source": [
    "import pandas as pd\n",
    "from sklearn.model_selection import train_test_split, GridSearchCV\n",
    "from sklearn.ensemble import RandomForestRegressor\n",
    "from sklearn.metrics import mean_squared_error"
   ]
  },
  {
   "cell_type": "code",
   "execution_count": null,
   "id": "5a89f221",
   "metadata": {},
   "outputs": [],
   "source": [
    "# Defining features and target variable\n",
    "X = merged_data.drop([\"Demand\"], axis=1)\n",
    "y = merged_data[\"Demand\"]"
   ]
  },
  {
   "cell_type": "code",
   "execution_count": null,
   "id": "723cb1b8",
   "metadata": {},
   "outputs": [],
   "source": [
    "# Splitting the dataset into training and testing sets\n",
    "X_train, X_test, y_train, y_test = train_test_split(X, y, test_size=0.2, random_state=42)"
   ]
  },
  {
   "cell_type": "code",
   "execution_count": null,
   "id": "75adf236",
   "metadata": {},
   "outputs": [],
   "source": [
    "# Initialize a RandomForestRegressor\n",
    "rf_model = RandomForestRegressor(random_state=42)"
   ]
  },
  {
   "cell_type": "code",
   "execution_count": null,
   "id": "a7bea12e",
   "metadata": {},
   "outputs": [],
   "source": [
    "# Defining hyperparameters grid for grid search\n",
    "param_grid = {\n",
    "    \"n_estimators\": [100, 200, 300],\n",
    "    \"max_depth\": [None, 10, 20],\n",
    "    \"min_samples_split\": [2, 5, 10],\n",
    "    \"min_samples_leaf\": [1, 2, 4]\n",
    "}"
   ]
  },
  {
   "cell_type": "code",
   "execution_count": null,
   "id": "d29ed2d5",
   "metadata": {},
   "outputs": [],
   "source": [
    "# Initialize GridSearchCV\n",
    "grid_search = GridSearchCV(estimator=rf_model, param_grid=param_grid,\n",
    "                           scoring='neg_mean_squared_error', cv=5)"
   ]
  },
  {
   "cell_type": "code",
   "execution_count": null,
   "id": "52adf523",
   "metadata": {},
   "outputs": [],
   "source": [
    "# Fit the GridSearchCV on the training data\n",
    "grid_search.fit(X_train, y_train)"
   ]
  },
  {
   "cell_type": "code",
   "execution_count": null,
   "id": "6bf664e4",
   "metadata": {},
   "outputs": [],
   "source": [
    "# Getting the best parameters and best estimator from the grid search\n",
    "best_params = grid_search.best_params_\n",
    "best_estimator = grid_search.best_estimator_"
   ]
  },
  {
   "cell_type": "code",
   "execution_count": null,
   "id": "6e1b3539",
   "metadata": {},
   "outputs": [],
   "source": [
    "# Making predictions on the test set using the best estimator\n",
    "y_pred = best_estimator.predict(X_test)"
   ]
  },
  {
   "cell_type": "code",
   "execution_count": null,
   "id": "3200a2f4",
   "metadata": {},
   "outputs": [],
   "source": [
    "# Calculate mean squared error as the evaluation metric\n",
    "mse = mean_squared_error(y_test, y_pred)"
   ]
  },
  {
   "cell_type": "code",
   "execution_count": null,
   "id": "ae08531d",
   "metadata": {},
   "outputs": [],
   "source": [
    "print(\"Best hyperparameters:\", best_params)\n",
    "print(\"Mean Squared Error:\", mse)"
   ]
  },
  {
   "cell_type": "code",
   "execution_count": null,
   "id": "954a54b8",
   "metadata": {},
   "outputs": [],
   "source": [
    "# Create a table for model comparison\n",
    "model_comparison = pd.DataFrame({\n",
    "    \"Model\": [\"Random Forest\"],\n",
    "    \"Mean Squared Error\": [mse]\n",
    "})"
   ]
  },
  {
   "cell_type": "markdown",
   "id": "5a74a733",
   "metadata": {},
   "source": [
    "# Predictive Modeling"
   ]
  },
  {
   "cell_type": "code",
   "execution_count": null,
   "id": "1922658b",
   "metadata": {},
   "outputs": [],
   "source": [
    "import pandas as pd\n",
    "import matplotlib.pyplot as plt\n",
    "import seaborn as sns\n",
    "from sklearn.model_selection import train_test_split\n",
    "from sklearn.linear_model import LinearRegression\n",
    "from sklearn.metrics import mean_squared_error"
   ]
  },
  {
   "cell_type": "code",
   "execution_count": null,
   "id": "d5d6b668",
   "metadata": {},
   "outputs": [],
   "source": [
    "# Define features and target variable\n",
    "X = merged_data[[\"Rain\", \"Temperature(c)\", \"Soil\"]]\n",
    "y = merged_data[\"Demand\"]"
   ]
  },
  {
   "cell_type": "code",
   "execution_count": null,
   "id": "0e5c8995",
   "metadata": {},
   "outputs": [],
   "source": [
    "# Split the dataset into training and testing sets\n",
    "X_train, X_test, y_train, y_test = train_test_split(X, y, test_size=0.2, random_state=42)"
   ]
  },
  {
   "cell_type": "code",
   "execution_count": null,
   "id": "b23e528a",
   "metadata": {},
   "outputs": [],
   "source": [
    "# Initialize a LinearRegression model\n",
    "lr_model = LinearRegression()"
   ]
  },
  {
   "cell_type": "code",
   "execution_count": null,
   "id": "8e2c85e1",
   "metadata": {},
   "outputs": [],
   "source": [
    "# Fit the model on the training data\n",
    "lr_model.fit(X_train, y_train)"
   ]
  },
  {
   "cell_type": "code",
   "execution_count": null,
   "id": "ffd6e1cb",
   "metadata": {},
   "outputs": [],
   "source": [
    "# Make predictions on the test set\n",
    "y_pred = lr_model.predict(X_test)"
   ]
  },
  {
   "cell_type": "code",
   "execution_count": null,
   "id": "69a0e2d8",
   "metadata": {},
   "outputs": [],
   "source": [
    "# Print Mean Squared Error\n",
    "print(\"Mean Squared Error:\", mse)"
   ]
  },
  {
   "cell_type": "code",
   "execution_count": null,
   "id": "78b71e13",
   "metadata": {},
   "outputs": [],
   "source": [
    "# Investigate feature impacts\n",
    "coef_df = pd.DataFrame({\n",
    "    \"Feature\": X.columns,\n",
    "    \"Coefficient\": lr_model.coef_\n",
    "})"
   ]
  },
  {
   "cell_type": "code",
   "execution_count": null,
   "id": "bf00a8fe",
   "metadata": {},
   "outputs": [],
   "source": [
    "# Visualize feature impacts\n",
    "plt.figure(figsize=(10, 6))\n",
    "sns.barplot(x=\"Coefficient\", y=\"Feature\", data=coef_df)\n",
    "plt.title(\"Feature Impacts on Demand\")\n",
    "plt.xlabel(\"Coefficient\")\n",
    "plt.ylabel(\"Feature\")\n",
    "plt.tight_layout()\n",
    "plt.show()"
   ]
  },
  {
   "cell_type": "code",
   "execution_count": null,
   "id": "461e56d5",
   "metadata": {},
   "outputs": [],
   "source": [
    "# Propose decision-support system\n",
    "def demand_prediction(rain, temperature, soil):\n",
    "    features = [[rain, temperature, soil]]\n",
    "    demand = lr_model.predict(features)\n",
    "    return demand[0]"
   ]
  },
  {
   "cell_type": "code",
   "execution_count": null,
   "id": "41aed5fd",
   "metadata": {},
   "outputs": [],
   "source": [
    "# usage of the decision-support system\n",
    "predicted_demand = demand_prediction(rain=50, temperature=25, soil=200)\n",
    "print(\"Predicted Demand:\", predicted_demand)"
   ]
  },
  {
   "cell_type": "code",
   "execution_count": null,
   "id": "3a67f91a",
   "metadata": {},
   "outputs": [],
   "source": []
  }
 ],
 "metadata": {
  "kernelspec": {
   "display_name": "Python 3 (ipykernel)",
   "language": "python",
   "name": "python3"
  },
  "language_info": {
   "codemirror_mode": {
    "name": "ipython",
    "version": 3
   },
   "file_extension": ".py",
   "mimetype": "text/x-python",
   "name": "python",
   "nbconvert_exporter": "python",
   "pygments_lexer": "ipython3",
   "version": "3.10.9"
  }
 },
 "nbformat": 4,
 "nbformat_minor": 5
}
