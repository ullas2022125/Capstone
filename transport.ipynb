{
 "cells": [
  {
   "cell_type": "code",
   "execution_count": 1,
   "id": "a8445e07-d368-494d-96db-be958d4cb361",
   "metadata": {},
   "outputs": [],
   "source": [
    "#importing libraries\n",
    "import pandas as pd\n",
    "import matplotlib.pyplot as plt\n",
    "import seaborn as sns\n",
    "import warnings\n",
    "from datetime import datetime, timedelta\n",
    "from matplotlib.ticker import FuncFormatter\n",
    "warnings.filterwarnings('ignore')"
   ]
  },
  {
   "cell_type": "code",
   "execution_count": 2,
   "id": "81abb52f-aa13-450c-894d-e1194c0f9831",
   "metadata": {},
   "outputs": [],
   "source": [
    "# Load Dataset\n",
    "df = pd.read_csv(\"D:/Ullas/MSc Data Analytics Capstone Project/Datasets/Passenger Journeys by Public Transport.csv\")"
   ]
  },
  {
   "cell_type": "code",
   "execution_count": 3,
   "id": "d1f65b6c-3bcd-433c-909d-4fa9b09556f7",
   "metadata": {},
   "outputs": [
    {
     "data": {
      "text/html": [
       "<div>\n",
       "<style scoped>\n",
       "    .dataframe tbody tr th:only-of-type {\n",
       "        vertical-align: middle;\n",
       "    }\n",
       "\n",
       "    .dataframe tbody tr th {\n",
       "        vertical-align: top;\n",
       "    }\n",
       "\n",
       "    .dataframe thead th {\n",
       "        text-align: right;\n",
       "    }\n",
       "</style>\n",
       "<table border=\"1\" class=\"dataframe\">\n",
       "  <thead>\n",
       "    <tr style=\"text-align: right;\">\n",
       "      <th></th>\n",
       "      <th>STATISTIC</th>\n",
       "      <th>Statistic Label</th>\n",
       "      <th>TLIST(A1)</th>\n",
       "      <th>Year</th>\n",
       "      <th>C03935V04687</th>\n",
       "      <th>Mode of Transport</th>\n",
       "      <th>C01198V01436</th>\n",
       "      <th>Weeks of the year</th>\n",
       "      <th>UNIT</th>\n",
       "      <th>VALUE</th>\n",
       "    </tr>\n",
       "  </thead>\n",
       "  <tbody>\n",
       "    <tr>\n",
       "      <th>0</th>\n",
       "      <td>THA24C01</td>\n",
       "      <td>Passenger Journeys</td>\n",
       "      <td>2019</td>\n",
       "      <td>2019</td>\n",
       "      <td>10</td>\n",
       "      <td>Dublin Metro Bus</td>\n",
       "      <td>1</td>\n",
       "      <td>Week 01</td>\n",
       "      <td>Number</td>\n",
       "      <td>1987891.0</td>\n",
       "    </tr>\n",
       "    <tr>\n",
       "      <th>1</th>\n",
       "      <td>THA24C01</td>\n",
       "      <td>Passenger Journeys</td>\n",
       "      <td>2019</td>\n",
       "      <td>2019</td>\n",
       "      <td>10</td>\n",
       "      <td>Dublin Metro Bus</td>\n",
       "      <td>2</td>\n",
       "      <td>Week 02</td>\n",
       "      <td>Number</td>\n",
       "      <td>2709579.0</td>\n",
       "    </tr>\n",
       "    <tr>\n",
       "      <th>2</th>\n",
       "      <td>THA24C01</td>\n",
       "      <td>Passenger Journeys</td>\n",
       "      <td>2019</td>\n",
       "      <td>2019</td>\n",
       "      <td>10</td>\n",
       "      <td>Dublin Metro Bus</td>\n",
       "      <td>3</td>\n",
       "      <td>Week 03</td>\n",
       "      <td>Number</td>\n",
       "      <td>2784678.0</td>\n",
       "    </tr>\n",
       "    <tr>\n",
       "      <th>3</th>\n",
       "      <td>THA24C01</td>\n",
       "      <td>Passenger Journeys</td>\n",
       "      <td>2019</td>\n",
       "      <td>2019</td>\n",
       "      <td>10</td>\n",
       "      <td>Dublin Metro Bus</td>\n",
       "      <td>4</td>\n",
       "      <td>Week 04</td>\n",
       "      <td>Number</td>\n",
       "      <td>2858346.0</td>\n",
       "    </tr>\n",
       "    <tr>\n",
       "      <th>4</th>\n",
       "      <td>THA24C01</td>\n",
       "      <td>Passenger Journeys</td>\n",
       "      <td>2019</td>\n",
       "      <td>2019</td>\n",
       "      <td>10</td>\n",
       "      <td>Dublin Metro Bus</td>\n",
       "      <td>5</td>\n",
       "      <td>Week 05</td>\n",
       "      <td>Number</td>\n",
       "      <td>2924821.0</td>\n",
       "    </tr>\n",
       "  </tbody>\n",
       "</table>\n",
       "</div>"
      ],
      "text/plain": [
       "  STATISTIC     Statistic Label  TLIST(A1)  Year  C03935V04687  \\\n",
       "0  THA24C01  Passenger Journeys       2019  2019            10   \n",
       "1  THA24C01  Passenger Journeys       2019  2019            10   \n",
       "2  THA24C01  Passenger Journeys       2019  2019            10   \n",
       "3  THA24C01  Passenger Journeys       2019  2019            10   \n",
       "4  THA24C01  Passenger Journeys       2019  2019            10   \n",
       "\n",
       "  Mode of Transport  C01198V01436 Weeks of the year    UNIT      VALUE  \n",
       "0  Dublin Metro Bus             1           Week 01  Number  1987891.0  \n",
       "1  Dublin Metro Bus             2           Week 02  Number  2709579.0  \n",
       "2  Dublin Metro Bus             3           Week 03  Number  2784678.0  \n",
       "3  Dublin Metro Bus             4           Week 04  Number  2858346.0  \n",
       "4  Dublin Metro Bus             5           Week 05  Number  2924821.0  "
      ]
     },
     "execution_count": 3,
     "metadata": {},
     "output_type": "execute_result"
    }
   ],
   "source": [
    "# Preview\n",
    "df.head()"
   ]
  },
  {
   "cell_type": "code",
   "execution_count": 4,
   "id": "01c2428f-7124-47bc-94c6-239c55959c17",
   "metadata": {},
   "outputs": [
    {
     "name": "stdout",
     "output_type": "stream",
     "text": [
      "Basic Statistics:\n",
      "         TLIST(A1)         Year  C03935V04687  C01198V01436         VALUE\n",
      "count  1060.000000  1060.000000   1060.000000   1060.000000  8.680000e+02\n",
      "mean   2021.000000  2021.000000     25.000000     27.000000  1.665662e+06\n",
      "std       1.414881     1.414881     11.185617     15.304279  1.367626e+06\n",
      "min    2019.000000  2019.000000     10.000000      1.000000  2.323100e+04\n",
      "25%    2020.000000  2020.000000     17.500000     14.000000  5.799855e+05\n",
      "50%    2021.000000  2021.000000     25.000000     27.000000  9.101360e+05\n",
      "75%    2022.000000  2022.000000     32.500000     40.000000  2.875604e+06\n",
      "max    2023.000000  2023.000000     40.000000     53.000000  5.075079e+06\n"
     ]
    }
   ],
   "source": [
    "# Basic Statistics\n",
    "print(\"Basic Statistics:\")\n",
    "print(df.describe())"
   ]
  },
  {
   "cell_type": "markdown",
   "id": "b1f16e1f-f089-4da1-8513-80d5b2a11809",
   "metadata": {},
   "source": [
    "Performing basic cleaning and setting up the dataset for further analysis"
   ]
  },
  {
   "cell_type": "code",
   "execution_count": 5,
   "id": "7be2d2b0-d311-40f6-8f43-2c7171d04dd9",
   "metadata": {},
   "outputs": [
    {
     "name": "stdout",
     "output_type": "stream",
     "text": [
      "<class 'pandas.core.frame.DataFrame'>\n",
      "RangeIndex: 1060 entries, 0 to 1059\n",
      "Data columns (total 10 columns):\n",
      " #   Column             Non-Null Count  Dtype  \n",
      "---  ------             --------------  -----  \n",
      " 0   STATISTIC          1060 non-null   object \n",
      " 1   Statistic Label    1060 non-null   object \n",
      " 2   TLIST(A1)          1060 non-null   int64  \n",
      " 3   Year               1060 non-null   int64  \n",
      " 4   C03935V04687       1060 non-null   int64  \n",
      " 5   Mode of Transport  1060 non-null   object \n",
      " 6   C01198V01436       1060 non-null   int64  \n",
      " 7   Weeks of the year  1060 non-null   object \n",
      " 8   UNIT               1060 non-null   object \n",
      " 9   VALUE              868 non-null    float64\n",
      "dtypes: float64(1), int64(4), object(5)\n",
      "memory usage: 82.9+ KB\n",
      "None\n"
     ]
    }
   ],
   "source": [
    "datasets = [df]\n",
    "\n",
    "for data in datasets:\n",
    "    print(data.info());"
   ]
  },
  {
   "cell_type": "code",
   "execution_count": 6,
   "id": "88edacac-d249-467a-8adc-182217227263",
   "metadata": {},
   "outputs": [],
   "source": [
    "# Renaming columns\n",
    "df.rename(columns={'Weeks of the year': 'Weeks', 'VALUE': 'Demand'}, inplace=True)"
   ]
  },
  {
   "cell_type": "code",
   "execution_count": 7,
   "id": "cdaac9fa-f668-4f29-8322-2337f2b5aa2b",
   "metadata": {},
   "outputs": [
    {
     "data": {
      "text/html": [
       "<div>\n",
       "<style scoped>\n",
       "    .dataframe tbody tr th:only-of-type {\n",
       "        vertical-align: middle;\n",
       "    }\n",
       "\n",
       "    .dataframe tbody tr th {\n",
       "        vertical-align: top;\n",
       "    }\n",
       "\n",
       "    .dataframe thead th {\n",
       "        text-align: right;\n",
       "    }\n",
       "</style>\n",
       "<table border=\"1\" class=\"dataframe\">\n",
       "  <thead>\n",
       "    <tr style=\"text-align: right;\">\n",
       "      <th></th>\n",
       "      <th>STATISTIC</th>\n",
       "      <th>Statistic Label</th>\n",
       "      <th>TLIST(A1)</th>\n",
       "      <th>Year</th>\n",
       "      <th>C03935V04687</th>\n",
       "      <th>Mode of Transport</th>\n",
       "      <th>C01198V01436</th>\n",
       "      <th>Weeks</th>\n",
       "      <th>UNIT</th>\n",
       "      <th>Demand</th>\n",
       "    </tr>\n",
       "  </thead>\n",
       "  <tbody>\n",
       "    <tr>\n",
       "      <th>0</th>\n",
       "      <td>THA24C01</td>\n",
       "      <td>Passenger Journeys</td>\n",
       "      <td>2019</td>\n",
       "      <td>2019</td>\n",
       "      <td>10</td>\n",
       "      <td>Dublin Metro Bus</td>\n",
       "      <td>1</td>\n",
       "      <td>Week 01</td>\n",
       "      <td>Number</td>\n",
       "      <td>1987891.0</td>\n",
       "    </tr>\n",
       "    <tr>\n",
       "      <th>1</th>\n",
       "      <td>THA24C01</td>\n",
       "      <td>Passenger Journeys</td>\n",
       "      <td>2019</td>\n",
       "      <td>2019</td>\n",
       "      <td>10</td>\n",
       "      <td>Dublin Metro Bus</td>\n",
       "      <td>2</td>\n",
       "      <td>Week 02</td>\n",
       "      <td>Number</td>\n",
       "      <td>2709579.0</td>\n",
       "    </tr>\n",
       "    <tr>\n",
       "      <th>2</th>\n",
       "      <td>THA24C01</td>\n",
       "      <td>Passenger Journeys</td>\n",
       "      <td>2019</td>\n",
       "      <td>2019</td>\n",
       "      <td>10</td>\n",
       "      <td>Dublin Metro Bus</td>\n",
       "      <td>3</td>\n",
       "      <td>Week 03</td>\n",
       "      <td>Number</td>\n",
       "      <td>2784678.0</td>\n",
       "    </tr>\n",
       "    <tr>\n",
       "      <th>3</th>\n",
       "      <td>THA24C01</td>\n",
       "      <td>Passenger Journeys</td>\n",
       "      <td>2019</td>\n",
       "      <td>2019</td>\n",
       "      <td>10</td>\n",
       "      <td>Dublin Metro Bus</td>\n",
       "      <td>4</td>\n",
       "      <td>Week 04</td>\n",
       "      <td>Number</td>\n",
       "      <td>2858346.0</td>\n",
       "    </tr>\n",
       "    <tr>\n",
       "      <th>4</th>\n",
       "      <td>THA24C01</td>\n",
       "      <td>Passenger Journeys</td>\n",
       "      <td>2019</td>\n",
       "      <td>2019</td>\n",
       "      <td>10</td>\n",
       "      <td>Dublin Metro Bus</td>\n",
       "      <td>5</td>\n",
       "      <td>Week 05</td>\n",
       "      <td>Number</td>\n",
       "      <td>2924821.0</td>\n",
       "    </tr>\n",
       "  </tbody>\n",
       "</table>\n",
       "</div>"
      ],
      "text/plain": [
       "  STATISTIC     Statistic Label  TLIST(A1)  Year  C03935V04687  \\\n",
       "0  THA24C01  Passenger Journeys       2019  2019            10   \n",
       "1  THA24C01  Passenger Journeys       2019  2019            10   \n",
       "2  THA24C01  Passenger Journeys       2019  2019            10   \n",
       "3  THA24C01  Passenger Journeys       2019  2019            10   \n",
       "4  THA24C01  Passenger Journeys       2019  2019            10   \n",
       "\n",
       "  Mode of Transport  C01198V01436    Weeks    UNIT     Demand  \n",
       "0  Dublin Metro Bus             1  Week 01  Number  1987891.0  \n",
       "1  Dublin Metro Bus             2  Week 02  Number  2709579.0  \n",
       "2  Dublin Metro Bus             3  Week 03  Number  2784678.0  \n",
       "3  Dublin Metro Bus             4  Week 04  Number  2858346.0  \n",
       "4  Dublin Metro Bus             5  Week 05  Number  2924821.0  "
      ]
     },
     "execution_count": 7,
     "metadata": {},
     "output_type": "execute_result"
    }
   ],
   "source": [
    "df.head()"
   ]
  },
  {
   "cell_type": "code",
   "execution_count": 8,
   "id": "21a063ba-956a-4ab7-a49d-1ae992376a5e",
   "metadata": {},
   "outputs": [],
   "source": [
    "df.drop(['STATISTIC','TLIST(A1)','UNIT'], axis = 1, inplace = True)"
   ]
  },
  {
   "cell_type": "code",
   "execution_count": 9,
   "id": "6fe806b2-f953-453f-852a-90d6fb54aed4",
   "metadata": {},
   "outputs": [
    {
     "data": {
      "text/html": [
       "<div>\n",
       "<style scoped>\n",
       "    .dataframe tbody tr th:only-of-type {\n",
       "        vertical-align: middle;\n",
       "    }\n",
       "\n",
       "    .dataframe tbody tr th {\n",
       "        vertical-align: top;\n",
       "    }\n",
       "\n",
       "    .dataframe thead th {\n",
       "        text-align: right;\n",
       "    }\n",
       "</style>\n",
       "<table border=\"1\" class=\"dataframe\">\n",
       "  <thead>\n",
       "    <tr style=\"text-align: right;\">\n",
       "      <th></th>\n",
       "      <th>Statistic Label</th>\n",
       "      <th>Year</th>\n",
       "      <th>C03935V04687</th>\n",
       "      <th>Mode of Transport</th>\n",
       "      <th>C01198V01436</th>\n",
       "      <th>Weeks</th>\n",
       "      <th>Demand</th>\n",
       "    </tr>\n",
       "  </thead>\n",
       "  <tbody>\n",
       "    <tr>\n",
       "      <th>0</th>\n",
       "      <td>Passenger Journeys</td>\n",
       "      <td>2019</td>\n",
       "      <td>10</td>\n",
       "      <td>Dublin Metro Bus</td>\n",
       "      <td>1</td>\n",
       "      <td>Week 01</td>\n",
       "      <td>1987891.0</td>\n",
       "    </tr>\n",
       "    <tr>\n",
       "      <th>1</th>\n",
       "      <td>Passenger Journeys</td>\n",
       "      <td>2019</td>\n",
       "      <td>10</td>\n",
       "      <td>Dublin Metro Bus</td>\n",
       "      <td>2</td>\n",
       "      <td>Week 02</td>\n",
       "      <td>2709579.0</td>\n",
       "    </tr>\n",
       "    <tr>\n",
       "      <th>2</th>\n",
       "      <td>Passenger Journeys</td>\n",
       "      <td>2019</td>\n",
       "      <td>10</td>\n",
       "      <td>Dublin Metro Bus</td>\n",
       "      <td>3</td>\n",
       "      <td>Week 03</td>\n",
       "      <td>2784678.0</td>\n",
       "    </tr>\n",
       "    <tr>\n",
       "      <th>3</th>\n",
       "      <td>Passenger Journeys</td>\n",
       "      <td>2019</td>\n",
       "      <td>10</td>\n",
       "      <td>Dublin Metro Bus</td>\n",
       "      <td>4</td>\n",
       "      <td>Week 04</td>\n",
       "      <td>2858346.0</td>\n",
       "    </tr>\n",
       "    <tr>\n",
       "      <th>4</th>\n",
       "      <td>Passenger Journeys</td>\n",
       "      <td>2019</td>\n",
       "      <td>10</td>\n",
       "      <td>Dublin Metro Bus</td>\n",
       "      <td>5</td>\n",
       "      <td>Week 05</td>\n",
       "      <td>2924821.0</td>\n",
       "    </tr>\n",
       "  </tbody>\n",
       "</table>\n",
       "</div>"
      ],
      "text/plain": [
       "      Statistic Label  Year  C03935V04687 Mode of Transport  C01198V01436  \\\n",
       "0  Passenger Journeys  2019            10  Dublin Metro Bus             1   \n",
       "1  Passenger Journeys  2019            10  Dublin Metro Bus             2   \n",
       "2  Passenger Journeys  2019            10  Dublin Metro Bus             3   \n",
       "3  Passenger Journeys  2019            10  Dublin Metro Bus             4   \n",
       "4  Passenger Journeys  2019            10  Dublin Metro Bus             5   \n",
       "\n",
       "     Weeks     Demand  \n",
       "0  Week 01  1987891.0  \n",
       "1  Week 02  2709579.0  \n",
       "2  Week 03  2784678.0  \n",
       "3  Week 04  2858346.0  \n",
       "4  Week 05  2924821.0  "
      ]
     },
     "execution_count": 9,
     "metadata": {},
     "output_type": "execute_result"
    }
   ],
   "source": [
    "df.head()"
   ]
  },
  {
   "cell_type": "code",
   "execution_count": 10,
   "id": "aa6b6815-c088-4602-9449-3ae9838a24ac",
   "metadata": {},
   "outputs": [],
   "source": [
    "#converting year and weeks columns to date column \n",
    "df['Date'] = df['Year'].astype(str) + '-W' + df['Weeks'].str.slice(start=5).astype(int).apply(lambda x: f'{x:02}')\n",
    "df['Date'] = pd.to_datetime(df['Date'] + '-1', format='%Y-W%U-%w')\n",
    "df['Date'] = df['Date'].dt.strftime('%d/%m/%Y')"
   ]
  },
  {
   "cell_type": "code",
   "execution_count": 11,
   "id": "6087f218-4d16-4168-9910-a7b60ef80e2f",
   "metadata": {},
   "outputs": [
    {
     "data": {
      "text/html": [
       "<div>\n",
       "<style scoped>\n",
       "    .dataframe tbody tr th:only-of-type {\n",
       "        vertical-align: middle;\n",
       "    }\n",
       "\n",
       "    .dataframe tbody tr th {\n",
       "        vertical-align: top;\n",
       "    }\n",
       "\n",
       "    .dataframe thead th {\n",
       "        text-align: right;\n",
       "    }\n",
       "</style>\n",
       "<table border=\"1\" class=\"dataframe\">\n",
       "  <thead>\n",
       "    <tr style=\"text-align: right;\">\n",
       "      <th></th>\n",
       "      <th>Statistic Label</th>\n",
       "      <th>Year</th>\n",
       "      <th>C03935V04687</th>\n",
       "      <th>Mode of Transport</th>\n",
       "      <th>C01198V01436</th>\n",
       "      <th>Weeks</th>\n",
       "      <th>Demand</th>\n",
       "      <th>Date</th>\n",
       "    </tr>\n",
       "  </thead>\n",
       "  <tbody>\n",
       "    <tr>\n",
       "      <th>0</th>\n",
       "      <td>Passenger Journeys</td>\n",
       "      <td>2019</td>\n",
       "      <td>10</td>\n",
       "      <td>Dublin Metro Bus</td>\n",
       "      <td>1</td>\n",
       "      <td>Week 01</td>\n",
       "      <td>1987891.0</td>\n",
       "      <td>07/01/2019</td>\n",
       "    </tr>\n",
       "    <tr>\n",
       "      <th>1</th>\n",
       "      <td>Passenger Journeys</td>\n",
       "      <td>2019</td>\n",
       "      <td>10</td>\n",
       "      <td>Dublin Metro Bus</td>\n",
       "      <td>2</td>\n",
       "      <td>Week 02</td>\n",
       "      <td>2709579.0</td>\n",
       "      <td>14/01/2019</td>\n",
       "    </tr>\n",
       "    <tr>\n",
       "      <th>2</th>\n",
       "      <td>Passenger Journeys</td>\n",
       "      <td>2019</td>\n",
       "      <td>10</td>\n",
       "      <td>Dublin Metro Bus</td>\n",
       "      <td>3</td>\n",
       "      <td>Week 03</td>\n",
       "      <td>2784678.0</td>\n",
       "      <td>21/01/2019</td>\n",
       "    </tr>\n",
       "    <tr>\n",
       "      <th>3</th>\n",
       "      <td>Passenger Journeys</td>\n",
       "      <td>2019</td>\n",
       "      <td>10</td>\n",
       "      <td>Dublin Metro Bus</td>\n",
       "      <td>4</td>\n",
       "      <td>Week 04</td>\n",
       "      <td>2858346.0</td>\n",
       "      <td>28/01/2019</td>\n",
       "    </tr>\n",
       "    <tr>\n",
       "      <th>4</th>\n",
       "      <td>Passenger Journeys</td>\n",
       "      <td>2019</td>\n",
       "      <td>10</td>\n",
       "      <td>Dublin Metro Bus</td>\n",
       "      <td>5</td>\n",
       "      <td>Week 05</td>\n",
       "      <td>2924821.0</td>\n",
       "      <td>04/02/2019</td>\n",
       "    </tr>\n",
       "  </tbody>\n",
       "</table>\n",
       "</div>"
      ],
      "text/plain": [
       "      Statistic Label  Year  C03935V04687 Mode of Transport  C01198V01436  \\\n",
       "0  Passenger Journeys  2019            10  Dublin Metro Bus             1   \n",
       "1  Passenger Journeys  2019            10  Dublin Metro Bus             2   \n",
       "2  Passenger Journeys  2019            10  Dublin Metro Bus             3   \n",
       "3  Passenger Journeys  2019            10  Dublin Metro Bus             4   \n",
       "4  Passenger Journeys  2019            10  Dublin Metro Bus             5   \n",
       "\n",
       "     Weeks     Demand        Date  \n",
       "0  Week 01  1987891.0  07/01/2019  \n",
       "1  Week 02  2709579.0  14/01/2019  \n",
       "2  Week 03  2784678.0  21/01/2019  \n",
       "3  Week 04  2858346.0  28/01/2019  \n",
       "4  Week 05  2924821.0  04/02/2019  "
      ]
     },
     "execution_count": 11,
     "metadata": {},
     "output_type": "execute_result"
    }
   ],
   "source": [
    "df.head()"
   ]
  },
  {
   "cell_type": "code",
   "execution_count": 12,
   "id": "879c5f5c-0c63-4f9c-b312-72aa74f3cf1f",
   "metadata": {},
   "outputs": [
    {
     "data": {
      "text/plain": [
       "Index(['Statistic Label', 'Year', 'C03935V04687', 'Mode of Transport',\n",
       "       'C01198V01436', 'Weeks', 'Demand', 'Date'],\n",
       "      dtype='object')"
      ]
     },
     "execution_count": 12,
     "metadata": {},
     "output_type": "execute_result"
    }
   ],
   "source": [
    "df.columns"
   ]
  },
  {
   "cell_type": "code",
   "execution_count": 13,
   "id": "554ad296-a06c-413a-954e-9508a6e560fa",
   "metadata": {},
   "outputs": [],
   "source": [
    "desired_order = ['Year', 'Weeks', 'Date', 'Mode of Transport', 'Statistic Label', 'Demand', 'C03935V04687', 'C01198V01436']"
   ]
  },
  {
   "cell_type": "code",
   "execution_count": 14,
   "id": "f5076d66-b468-4f30-b3c2-1b0dcaaf8216",
   "metadata": {},
   "outputs": [],
   "source": [
    "df = df.reindex(columns=desired_order)"
   ]
  },
  {
   "cell_type": "code",
   "execution_count": 15,
   "id": "f9c9b378-2f9b-4a6f-8aa4-1421ebec7919",
   "metadata": {},
   "outputs": [
    {
     "data": {
      "text/html": [
       "<div>\n",
       "<style scoped>\n",
       "    .dataframe tbody tr th:only-of-type {\n",
       "        vertical-align: middle;\n",
       "    }\n",
       "\n",
       "    .dataframe tbody tr th {\n",
       "        vertical-align: top;\n",
       "    }\n",
       "\n",
       "    .dataframe thead th {\n",
       "        text-align: right;\n",
       "    }\n",
       "</style>\n",
       "<table border=\"1\" class=\"dataframe\">\n",
       "  <thead>\n",
       "    <tr style=\"text-align: right;\">\n",
       "      <th></th>\n",
       "      <th>Year</th>\n",
       "      <th>Weeks</th>\n",
       "      <th>Date</th>\n",
       "      <th>Mode of Transport</th>\n",
       "      <th>Statistic Label</th>\n",
       "      <th>Demand</th>\n",
       "      <th>C03935V04687</th>\n",
       "      <th>C01198V01436</th>\n",
       "    </tr>\n",
       "  </thead>\n",
       "  <tbody>\n",
       "    <tr>\n",
       "      <th>0</th>\n",
       "      <td>2019</td>\n",
       "      <td>Week 01</td>\n",
       "      <td>07/01/2019</td>\n",
       "      <td>Dublin Metro Bus</td>\n",
       "      <td>Passenger Journeys</td>\n",
       "      <td>1987891.0</td>\n",
       "      <td>10</td>\n",
       "      <td>1</td>\n",
       "    </tr>\n",
       "    <tr>\n",
       "      <th>1</th>\n",
       "      <td>2019</td>\n",
       "      <td>Week 02</td>\n",
       "      <td>14/01/2019</td>\n",
       "      <td>Dublin Metro Bus</td>\n",
       "      <td>Passenger Journeys</td>\n",
       "      <td>2709579.0</td>\n",
       "      <td>10</td>\n",
       "      <td>2</td>\n",
       "    </tr>\n",
       "    <tr>\n",
       "      <th>2</th>\n",
       "      <td>2019</td>\n",
       "      <td>Week 03</td>\n",
       "      <td>21/01/2019</td>\n",
       "      <td>Dublin Metro Bus</td>\n",
       "      <td>Passenger Journeys</td>\n",
       "      <td>2784678.0</td>\n",
       "      <td>10</td>\n",
       "      <td>3</td>\n",
       "    </tr>\n",
       "    <tr>\n",
       "      <th>3</th>\n",
       "      <td>2019</td>\n",
       "      <td>Week 04</td>\n",
       "      <td>28/01/2019</td>\n",
       "      <td>Dublin Metro Bus</td>\n",
       "      <td>Passenger Journeys</td>\n",
       "      <td>2858346.0</td>\n",
       "      <td>10</td>\n",
       "      <td>4</td>\n",
       "    </tr>\n",
       "    <tr>\n",
       "      <th>4</th>\n",
       "      <td>2019</td>\n",
       "      <td>Week 05</td>\n",
       "      <td>04/02/2019</td>\n",
       "      <td>Dublin Metro Bus</td>\n",
       "      <td>Passenger Journeys</td>\n",
       "      <td>2924821.0</td>\n",
       "      <td>10</td>\n",
       "      <td>5</td>\n",
       "    </tr>\n",
       "  </tbody>\n",
       "</table>\n",
       "</div>"
      ],
      "text/plain": [
       "   Year    Weeks        Date Mode of Transport     Statistic Label     Demand  \\\n",
       "0  2019  Week 01  07/01/2019  Dublin Metro Bus  Passenger Journeys  1987891.0   \n",
       "1  2019  Week 02  14/01/2019  Dublin Metro Bus  Passenger Journeys  2709579.0   \n",
       "2  2019  Week 03  21/01/2019  Dublin Metro Bus  Passenger Journeys  2784678.0   \n",
       "3  2019  Week 04  28/01/2019  Dublin Metro Bus  Passenger Journeys  2858346.0   \n",
       "4  2019  Week 05  04/02/2019  Dublin Metro Bus  Passenger Journeys  2924821.0   \n",
       "\n",
       "   C03935V04687  C01198V01436  \n",
       "0            10             1  \n",
       "1            10             2  \n",
       "2            10             3  \n",
       "3            10             4  \n",
       "4            10             5  "
      ]
     },
     "execution_count": 15,
     "metadata": {},
     "output_type": "execute_result"
    }
   ],
   "source": [
    "df.head()"
   ]
  },
  {
   "cell_type": "code",
   "execution_count": 16,
   "id": "7cce990e-c27c-4a5e-bc92-1bcd332ad478",
   "metadata": {},
   "outputs": [],
   "source": [
    "#Dealing with the missing values on the dataset\n",
    "df.interpolate(method='linear', inplace=True)"
   ]
  },
  {
   "cell_type": "code",
   "execution_count": 17,
   "id": "8f4faad1-3f04-40cf-b82e-0749cef6dca0",
   "metadata": {},
   "outputs": [],
   "source": [
    "#formating the Deamnd column to make it more simpler \n",
    "df['Demand'] = df['Demand'].apply(lambda x: \"{:,.0f}\".format(x))"
   ]
  },
  {
   "cell_type": "code",
   "execution_count": 18,
   "id": "529384bb-1e1a-44b2-a056-010e25f7860b",
   "metadata": {},
   "outputs": [
    {
     "name": "stdout",
     "output_type": "stream",
     "text": [
      "(1060, 8)\n"
     ]
    }
   ],
   "source": [
    "datasets = [df]\n",
    "\n",
    "for data in datasets:\n",
    "    print(data.shape)"
   ]
  },
  {
   "cell_type": "code",
   "execution_count": 19,
   "id": "61ad4ac2-1c5f-41c6-a20f-effc15004a07",
   "metadata": {},
   "outputs": [
    {
     "name": "stdout",
     "output_type": "stream",
     "text": [
      "<class 'pandas.core.frame.DataFrame'>\n",
      "RangeIndex: 1060 entries, 0 to 1059\n",
      "Data columns (total 8 columns):\n",
      " #   Column             Non-Null Count  Dtype \n",
      "---  ------             --------------  ----- \n",
      " 0   Year               1060 non-null   int64 \n",
      " 1   Weeks              1060 non-null   object\n",
      " 2   Date               1060 non-null   object\n",
      " 3   Mode of Transport  1060 non-null   object\n",
      " 4   Statistic Label    1060 non-null   object\n",
      " 5   Demand             1060 non-null   object\n",
      " 6   C03935V04687       1060 non-null   int64 \n",
      " 7   C01198V01436       1060 non-null   int64 \n",
      "dtypes: int64(3), object(5)\n",
      "memory usage: 66.4+ KB\n",
      "None\n"
     ]
    }
   ],
   "source": [
    "datasets = [df]\n",
    "\n",
    "for data in datasets:\n",
    "    print(data.info());"
   ]
  },
  {
   "cell_type": "code",
   "execution_count": 32,
   "id": "1b8d6f43-fe1e-4276-a58c-9dd340263520",
   "metadata": {},
   "outputs": [
    {
     "data": {
      "image/png": "[encoded data removed]",
      "text/plain": [
       "<Figure size 800x500 with 1 Axes>"
      ]
     },
     "metadata": {},
     "output_type": "display_data"
    }
   ],
   "source": [
    "# Histogram to see the distribution of demand\n",
    "plt.figure(figsize=(8, 5))\n",
    "plt.hist(df['Demand'], bins=20, edgecolor='black')\n",
    "plt.xlabel('Demand')\n",
    "plt.ylabel('Frequency')\n",
    "plt.title('Distribution of Public Transportation Demand')\n",
    "plt.show()"
   ]
  },
  {
   "cell_type": "code",
   "execution_count": null,
   "id": "56394b72-86c0-45d0-90a9-1eb337a8222a",
   "metadata": {},
   "outputs": [],
   "source": []
  }
 ],
 "metadata": {
  "kernelspec": {
   "display_name": "Python 3 (ipykernel)",
   "language": "python",
   "name": "python3"
  },
  "language_info": {
   "codemirror_mode": {
    "name": "ipython",
    "version": 3
   },
   "file_extension": ".py",
   "mimetype": "text/x-python",
   "name": "python",
   "nbconvert_exporter": "python",
   "pygments_lexer": "ipython3",
   "version": "3.10.9"
  }
 },
 "nbformat": 4,
 "nbformat_minor": 5
}
