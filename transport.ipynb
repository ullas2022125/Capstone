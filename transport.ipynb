{
 "cells": [
  {
   "cell_type": "code",
   "execution_count": 1,
   "id": "a8445e07-d368-494d-96db-be958d4cb361",
   "metadata": {},
   "outputs": [],
   "source": [
    "#importing libraries\n",
    "import pandas as pd\n",
    "import matplotlib.pyplot as plt\n",
    "import seaborn as sns\n",
    "import warnings\n",
    "from datetime import datetime, timedelta\n",
    "warnings.filterwarnings('ignore')"
   ]
  },
  {
   "cell_type": "code",
   "execution_count": 2,
   "id": "81abb52f-aa13-450c-894d-e1194c0f9831",
   "metadata": {},
   "outputs": [],
   "source": [
    "# Load Dataset\n",
    "df = pd.read_csv(\"C:/Users/ullas/Documents/MSc Data Analytics Capstone Project/Datasets/Passenger Journeys by Public Transport.csv\")"
   ]
  },
  {
   "cell_type": "code",
   "execution_count": 3,
   "id": "d1f65b6c-3bcd-433c-909d-4fa9b09556f7",
   "metadata": {},
   "outputs": [
    {
     "data": {
      "text/html": [
       "<div>\n",
       "<style scoped>\n",
       "    .dataframe tbody tr th:only-of-type {\n",
       "        vertical-align: middle;\n",
       "    }\n",
       "\n",
       "    .dataframe tbody tr th {\n",
       "        vertical-align: top;\n",
       "    }\n",
       "\n",
       "    .dataframe thead th {\n",
       "        text-align: right;\n",
       "    }\n",
       "</style>\n",
       "<table border=\"1\" class=\"dataframe\">\n",
       "  <thead>\n",
       "    <tr style=\"text-align: right;\">\n",
       "      <th></th>\n",
       "      <th>STATISTIC</th>\n",
       "      <th>Statistic Label</th>\n",
       "      <th>TLIST(A1)</th>\n",
       "      <th>Year</th>\n",
       "      <th>C03935V04687</th>\n",
       "      <th>Mode of Transport</th>\n",
       "      <th>C01198V01436</th>\n",
       "      <th>Weeks of the year</th>\n",
       "      <th>UNIT</th>\n",
       "      <th>VALUE</th>\n",
       "    </tr>\n",
       "  </thead>\n",
       "  <tbody>\n",
       "    <tr>\n",
       "      <th>0</th>\n",
       "      <td>THA24C01</td>\n",
       "      <td>Passenger Journeys</td>\n",
       "      <td>2019</td>\n",
       "      <td>2019</td>\n",
       "      <td>10</td>\n",
       "      <td>Dublin Metro Bus</td>\n",
       "      <td>1</td>\n",
       "      <td>Week 01</td>\n",
       "      <td>Number</td>\n",
       "      <td>1987891.0</td>\n",
       "    </tr>\n",
       "    <tr>\n",
       "      <th>1</th>\n",
       "      <td>THA24C01</td>\n",
       "      <td>Passenger Journeys</td>\n",
       "      <td>2019</td>\n",
       "      <td>2019</td>\n",
       "      <td>10</td>\n",
       "      <td>Dublin Metro Bus</td>\n",
       "      <td>2</td>\n",
       "      <td>Week 02</td>\n",
       "      <td>Number</td>\n",
       "      <td>2709579.0</td>\n",
       "    </tr>\n",
       "    <tr>\n",
       "      <th>2</th>\n",
       "      <td>THA24C01</td>\n",
       "      <td>Passenger Journeys</td>\n",
       "      <td>2019</td>\n",
       "      <td>2019</td>\n",
       "      <td>10</td>\n",
       "      <td>Dublin Metro Bus</td>\n",
       "      <td>3</td>\n",
       "      <td>Week 03</td>\n",
       "      <td>Number</td>\n",
       "      <td>2784678.0</td>\n",
       "    </tr>\n",
       "    <tr>\n",
       "      <th>3</th>\n",
       "      <td>THA24C01</td>\n",
       "      <td>Passenger Journeys</td>\n",
       "      <td>2019</td>\n",
       "      <td>2019</td>\n",
       "      <td>10</td>\n",
       "      <td>Dublin Metro Bus</td>\n",
       "      <td>4</td>\n",
       "      <td>Week 04</td>\n",
       "      <td>Number</td>\n",
       "      <td>2858346.0</td>\n",
       "    </tr>\n",
       "    <tr>\n",
       "      <th>4</th>\n",
       "      <td>THA24C01</td>\n",
       "      <td>Passenger Journeys</td>\n",
       "      <td>2019</td>\n",
       "      <td>2019</td>\n",
       "      <td>10</td>\n",
       "      <td>Dublin Metro Bus</td>\n",
       "      <td>5</td>\n",
       "      <td>Week 05</td>\n",
       "      <td>Number</td>\n",
       "      <td>2924821.0</td>\n",
       "    </tr>\n",
       "  </tbody>\n",
       "</table>\n",
       "</div>"
      ],
      "text/plain": [
       "  STATISTIC     Statistic Label  TLIST(A1)  Year  C03935V04687  \\\n",
       "0  THA24C01  Passenger Journeys       2019  2019            10   \n",
       "1  THA24C01  Passenger Journeys       2019  2019            10   \n",
       "2  THA24C01  Passenger Journeys       2019  2019            10   \n",
       "3  THA24C01  Passenger Journeys       2019  2019            10   \n",
       "4  THA24C01  Passenger Journeys       2019  2019            10   \n",
       "\n",
       "  Mode of Transport  C01198V01436 Weeks of the year    UNIT      VALUE  \n",
       "0  Dublin Metro Bus             1           Week 01  Number  1987891.0  \n",
       "1  Dublin Metro Bus             2           Week 02  Number  2709579.0  \n",
       "2  Dublin Metro Bus             3           Week 03  Number  2784678.0  \n",
       "3  Dublin Metro Bus             4           Week 04  Number  2858346.0  \n",
       "4  Dublin Metro Bus             5           Week 05  Number  2924821.0  "
      ]
     },
     "execution_count": 3,
     "metadata": {},
     "output_type": "execute_result"
    }
   ],
   "source": [
    "# Preview\n",
    "df.head()"
   ]
  },
  {
   "cell_type": "code",
   "execution_count": 4,
   "id": "01c2428f-7124-47bc-94c6-239c55959c17",
   "metadata": {},
   "outputs": [
    {
     "name": "stdout",
     "output_type": "stream",
     "text": [
      "Basic Statistics:\n",
      "         TLIST(A1)         Year  C03935V04687  C01198V01436         VALUE\n",
      "count  1060.000000  1060.000000   1060.000000   1060.000000  8.680000e+02\n",
      "mean   2021.000000  2021.000000     25.000000     27.000000  1.665662e+06\n",
      "std       1.414881     1.414881     11.185617     15.304279  1.367626e+06\n",
      "min    2019.000000  2019.000000     10.000000      1.000000  2.323100e+04\n",
      "25%    2020.000000  2020.000000     17.500000     14.000000  5.799855e+05\n",
      "50%    2021.000000  2021.000000     25.000000     27.000000  9.101360e+05\n",
      "75%    2022.000000  2022.000000     32.500000     40.000000  2.875604e+06\n",
      "max    2023.000000  2023.000000     40.000000     53.000000  5.075079e+06\n"
     ]
    }
   ],
   "source": [
    "# Basic Statistics\n",
    "print(\"Basic Statistics:\")\n",
    "print(df.describe())"
   ]
  },
  {
   "cell_type": "code",
   "execution_count": 5,
   "id": "7d69b3c4-e3f4-4d61-bdd4-f1c1e985a025",
   "metadata": {},
   "outputs": [],
   "source": [
    "data = {\n",
    "    'Year': [2019, 2020, 2021, 2022, 2023],\n",
    "    'Week': ['Week 01', 'Week 02', 'Week 03', 'Week 04', 'Week 53']\n",
    "}"
   ]
  },
  {
   "cell_type": "markdown",
   "id": "8dd7140b-9523-4e03-91c9-0ce7580f31ea",
   "metadata": {},
   "source": [
    "data = {\n",
    "    'Year': [2019, 2020, 2021, 2022, 2023],\n",
    "    'Week': ['Week 01','Week 02','Week 03','Week 04','Week 05','Week 06','Week 07','Week 08','Week 09','Week 10','Week 11','Week 12','Week 13','Week 14','Week 15','Week 16','Week 17','Week 18','Week 19','Week 20','Week 21','Week 22','Week 23','Week 24','Week 25','Week 26','Week 27','Week 28','Week 29','Week 30','Week 31','Week 32','Week 33','Week 34','Week 35','Week 36','Week 37','Week 38','Week 39','Week 40','Week 41','Week 42','Week 43','Week 44','Week 45','Week 46','Week 47','Week 48','Week 49','Week 50','Week 51','Week 52','Week 53']\n",
    "}"
   ]
  },
  {
   "cell_type": "code",
   "execution_count": 6,
   "id": "8b38a25d-ddab-4e85-b6a1-8a41107c7ff9",
   "metadata": {},
   "outputs": [],
   "source": [
    "df = pd.DataFrame(data)"
   ]
  },
  {
   "cell_type": "code",
   "execution_count": 7,
   "id": "21fa8b44-1742-4f1d-8cf7-dfd6d9663e96",
   "metadata": {},
   "outputs": [],
   "source": [
    "def convert_to_date(year, week):\n",
    "    week_number = int(week.split()[1])"
   ]
  },
  {
   "cell_type": "code",
   "execution_count": 9,
   "id": "09abcecf-353b-410a-8c88-fa2db018d967",
   "metadata": {},
   "outputs": [
    {
     "ename": "NameError",
     "evalue": "name 'year' is not defined",
     "output_type": "error",
     "traceback": [
      "\u001b[1;31m---------------------------------------------------------------------------\u001b[0m",
      "\u001b[1;31mNameError\u001b[0m                                 Traceback (most recent call last)",
      "Cell \u001b[1;32mIn[9], line 1\u001b[0m\n\u001b[1;32m----> 1\u001b[0m date \u001b[38;5;241m=\u001b[39m datetime\u001b[38;5;241m.\u001b[39mstrptime(\u001b[38;5;124mf\u001b[39m\u001b[38;5;124m'\u001b[39m\u001b[38;5;132;01m{\u001b[39;00myear\u001b[38;5;132;01m}\u001b[39;00m\u001b[38;5;124m-W\u001b[39m\u001b[38;5;132;01m{\u001b[39;00mweek_number\u001b[38;5;132;01m:\u001b[39;00m\u001b[38;5;124m02d\u001b[39m\u001b[38;5;132;01m}\u001b[39;00m\u001b[38;5;124m-1\u001b[39m\u001b[38;5;124m'\u001b[39m,\u001b[38;5;124m'\u001b[39m\u001b[38;5;124m%\u001b[39m\u001b[38;5;124mY-W\u001b[39m\u001b[38;5;124m%\u001b[39m\u001b[38;5;124mV-\u001b[39m\u001b[38;5;124m%\u001b[39m\u001b[38;5;124mw\u001b[39m\u001b[38;5;124m'\u001b[39m)\n",
      "\u001b[1;31mNameError\u001b[0m: name 'year' is not defined"
     ]
    }
   ],
   "source": [
    "date = datetime.strptime(f'{year}-W{week_number:02d}-1','%Y-W%V-%w')"
   ]
  },
  {
   "cell_type": "code",
   "execution_count": null,
   "id": "88edacac-d249-467a-8adc-182217227263",
   "metadata": {},
   "outputs": [],
   "source": []
  }
 ],
 "metadata": {
  "kernelspec": {
   "display_name": "Python 3 (ipykernel)",
   "language": "python",
   "name": "python3"
  },
  "language_info": {
   "codemirror_mode": {
    "name": "ipython",
    "version": 3
   },
   "file_extension": ".py",
   "mimetype": "text/x-python",
   "name": "python",
   "nbconvert_exporter": "python",
   "pygments_lexer": "ipython3",
   "version": "3.10.9"
  }
 },
 "nbformat": 4,
 "nbformat_minor": 5
}
