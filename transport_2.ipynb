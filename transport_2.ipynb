{
 "cells": [
  {
   "cell_type": "code",
   "execution_count": null,
   "id": "5c1ef4d5",
   "metadata": {},
   "outputs": [],
   "source": [
    "# Import necessary libraries\n",
    "import pandas as pd\n",
    "import numpy as np\n",
    "from sklearn.model_selection import train_test_split\n",
    "from sklearn.linear_model import LinearRegression\n",
    "from sklearn.metrics import mean_squared_error\n",
    "from sklearn.preprocessing import StandardScaler, MinMaxScaler\n",
    "from sklearn.model_selection import train_test_split\n",
    "from sklearn.ensemble import RandomForestRegressor\n",
    "from sklearn.preprocessing import LabelEncoder\n",
    "from sklearn.metrics import mean_squared_error, r2_score"
   ]
  },
  {
   "cell_type": "code",
   "execution_count": null,
   "id": "210788a1",
   "metadata": {},
   "outputs": [],
   "source": [
    "# Load datasets\n",
    "demand_data = pd.read_csv(\"D:/Ullas/MSc Data Analytics Capstone Project/Datasets/Passenger Journeys by Public Transport.csv\")\n",
    "demographic_data = pd.read_csv(\"D:/Ullas/MSc Data Analytics Capstone Project/Datasets/Demographic.csv\")\n",
    "weather_data = pd.read_csv(\"D:/Ullas/MSc Data Analytics Capstone Project/Datasets/weather.csv\")"
   ]
  },
  {
   "cell_type": "code",
   "execution_count": null,
   "id": "342946e4",
   "metadata": {},
   "outputs": [],
   "source": [
    "demand_data.head()"
   ]
  },
  {
   "cell_type": "code",
   "execution_count": null,
   "id": "b08dd87d",
   "metadata": {},
   "outputs": [],
   "source": [
    "demographic_data.head()"
   ]
  },
  {
   "cell_type": "code",
   "execution_count": null,
   "id": "86ebed91",
   "metadata": {},
   "outputs": [],
   "source": [
    "weather_data.head()"
   ]
  },
  {
   "cell_type": "code",
   "execution_count": null,
   "id": "c3625e60",
   "metadata": {},
   "outputs": [],
   "source": [
    "pd.set_option('display.max_rows', None)\n",
    "print(demand_data)"
   ]
  },
  {
   "cell_type": "code",
   "execution_count": null,
   "id": "a9aebdbe",
   "metadata": {},
   "outputs": [],
   "source": [
    "# Displaying basic information about the datasets\n",
    "print(\"Demand Data Info:\")\n",
    "print(demand_data.info())\n",
    "\n",
    "print(\"\\nDemographic Data Info:\")\n",
    "print(demographic_data.info())\n",
    "\n",
    "print(\"\\nWeather Data Info:\")\n",
    "print(weather_data.info())\n",
    "\n",
    "# Summary statistics\n",
    "print(\"\\nDemand Data Summary Statistics:\")\n",
    "print(demand_data.describe())\n",
    "\n",
    "print(\"\\nDemographic Data Summary Statistics:\")\n",
    "print(demographic_data.describe())\n",
    "\n",
    "print(\"\\nWeather Data Summary Statistics:\")\n",
    "print(weather_data.describe())"
   ]
  },
  {
   "cell_type": "code",
   "execution_count": null,
   "id": "4583f182",
   "metadata": {},
   "outputs": [],
   "source": [
    "demand_data.columns"
   ]
  },
  {
   "cell_type": "code",
   "execution_count": null,
   "id": "1073179b",
   "metadata": {},
   "outputs": [],
   "source": [
    "demographic_data.columns"
   ]
  },
  {
   "cell_type": "code",
   "execution_count": null,
   "id": "c7b0cb86",
   "metadata": {},
   "outputs": [],
   "source": [
    "weather_data.columns"
   ]
  },
  {
   "cell_type": "markdown",
   "id": "d16184d2",
   "metadata": {},
   "source": [
    "# Preparing the first dataset: demand_data"
   ]
  },
  {
   "cell_type": "code",
   "execution_count": null,
   "id": "6d15a565",
   "metadata": {},
   "outputs": [],
   "source": [
    "# Renaming columns\n",
    "demand_data.rename(columns={'Weeks of the year': 'Weeks', 'VALUE': 'Demand'}, inplace=True)"
   ]
  },
  {
   "cell_type": "code",
   "execution_count": null,
   "id": "7068f15e",
   "metadata": {},
   "outputs": [],
   "source": [
    "demand_data.drop(['STATISTIC','TLIST(A1)','UNIT'], axis = 1, inplace = True)"
   ]
  },
  {
   "cell_type": "code",
   "execution_count": null,
   "id": "916b9075",
   "metadata": {},
   "outputs": [],
   "source": [
    "#converting year and weeks columns to date column \n",
    "demand_data['Date'] = demand_data['Year'].astype(str) + '-W' + demand_data['Weeks'].str.slice(start=5).astype(int).apply(lambda x: f'{x:02}')\n",
    "demand_data['Date'] = pd.to_datetime(demand_data['Date'] + '-1', format='%Y-W%U-%w')\n",
    "demand_data['Date'] = demand_data['Date'].dt.strftime('%d/%m/%Y')"
   ]
  },
  {
   "cell_type": "code",
   "execution_count": null,
   "id": "4f9adf7e",
   "metadata": {},
   "outputs": [],
   "source": [
    "desired_order = ['Year', 'Weeks', 'Date', 'Mode of Transport', 'Statistic Label', 'Demand', 'C03935V04687', 'C01198V01436']\n",
    "\n",
    "demand_data = demand_data.reindex(columns=desired_order)\n",
    "\n",
    "#Dealing with the missing values on the dataset\n",
    "demand_data.interpolate(method='linear', inplace=True)\n",
    "\n",
    "#formating the Deamnd column to make it more simpler \n",
    "demand_data['Demand'] = demand_data['Demand'].apply(lambda x: \"{:,.0f}\".format(x))\n",
    "\n",
    "# remove commas on Demand\n",
    "demand_data['Demand'] = demand_data['Demand'].str.replace(',', '').astype(int)"
   ]
  },
  {
   "cell_type": "code",
   "execution_count": null,
   "id": "3408f328",
   "metadata": {},
   "outputs": [],
   "source": [
    "demand_data.drop(['C03935V04687','C01198V01436'], axis = 1, inplace = True)"
   ]
  },
  {
   "cell_type": "code",
   "execution_count": null,
   "id": "2ee60286",
   "metadata": {},
   "outputs": [],
   "source": [
    "demand_data.columns"
   ]
  },
  {
   "cell_type": "code",
   "execution_count": null,
   "id": "2b75c0b4",
   "metadata": {},
   "outputs": [],
   "source": [
    "demand_data.head()"
   ]
  },
  {
   "cell_type": "code",
   "execution_count": null,
   "id": "ebbb290f",
   "metadata": {},
   "outputs": [],
   "source": [
    "demand_data['Date'] = pd.to_datetime(demand_data['Date'], format='%d/%m/%Y')"
   ]
  },
  {
   "cell_type": "code",
   "execution_count": null,
   "id": "0305e1df",
   "metadata": {},
   "outputs": [],
   "source": [
    "demand_data['Date'] = pd.to_datetime(demand_data['Date'])"
   ]
  },
  {
   "cell_type": "code",
   "execution_count": null,
   "id": "75cabe68",
   "metadata": {},
   "outputs": [],
   "source": [
    "unique_transport_modes = demand_data[\"Mode of Transport\"].unique()"
   ]
  },
  {
   "cell_type": "code",
   "execution_count": null,
   "id": "d49df9d4",
   "metadata": {},
   "outputs": [],
   "source": [
    "print(unique_transport_modes)"
   ]
  },
  {
   "cell_type": "code",
   "execution_count": null,
   "id": "f4a2e65e",
   "metadata": {},
   "outputs": [],
   "source": [
    "# Mapping the names in the column \n",
    "transport_mapping = {\n",
    "    \"Dublin Metro Bus\": \"Dart\", \"Bus, excluding Dublin Metro\": \"Dublin Bus\", \"All public transport, excluding LUAS\" : \"Luas\" \n",
    "}"
   ]
  },
  {
   "cell_type": "code",
   "execution_count": null,
   "id": "1019b9c3",
   "metadata": {},
   "outputs": [],
   "source": [
    "# Replace the old names with new names\n",
    "demand_data[\"Mode of Transport\"] = demand_data[\"Mode of Transport\"].replace(transport_mapping)"
   ]
  },
  {
   "cell_type": "code",
   "execution_count": null,
   "id": "e3192688",
   "metadata": {},
   "outputs": [],
   "source": [
    "demand_data = demand_data[demand_data['Date'] <= '2023-08-28']"
   ]
  },
  {
   "cell_type": "code",
   "execution_count": null,
   "id": "4c88710c",
   "metadata": {},
   "outputs": [],
   "source": [
    "pd.set_option('display.max_rows', None)\n",
    "print(demand_data)"
   ]
  },
  {
   "cell_type": "code",
   "execution_count": null,
   "id": "ebb793d6",
   "metadata": {},
   "outputs": [],
   "source": [
    "total_lines = len(demand_data)\n",
    "print(\"Total lines of data:\", total_lines)"
   ]
  },
  {
   "cell_type": "markdown",
   "id": "98ff5901",
   "metadata": {},
   "source": [
    "# Preparing the Second dataset: demographic_data"
   ]
  },
  {
   "cell_type": "code",
   "execution_count": null,
   "id": "6409e83f",
   "metadata": {},
   "outputs": [],
   "source": [
    "demographic_data.head()"
   ]
  },
  {
   "cell_type": "code",
   "execution_count": null,
   "id": "747fa722",
   "metadata": {},
   "outputs": [],
   "source": [
    "total_lines = len(demographic_data)\n",
    "print(\"Total lines of data:\", total_lines)"
   ]
  },
  {
   "cell_type": "code",
   "execution_count": null,
   "id": "9adb997b",
   "metadata": {},
   "outputs": [],
   "source": [
    "unique_Statistic_label = demographic_data[\"Statistic Label\"].unique()"
   ]
  },
  {
   "cell_type": "code",
   "execution_count": null,
   "id": "a401ec48",
   "metadata": {},
   "outputs": [],
   "source": [
    "print(unique_Statistic_label)"
   ]
  },
  {
   "cell_type": "code",
   "execution_count": null,
   "id": "6a233e9a",
   "metadata": {},
   "outputs": [],
   "source": [
    "# Renaming columns\n",
    "demographic_data.rename(columns={'Sex': 'Gender'}, inplace=True)"
   ]
  },
  {
   "cell_type": "code",
   "execution_count": null,
   "id": "fd392c67",
   "metadata": {},
   "outputs": [],
   "source": [
    "demographic_data.drop(['STATISTIC','TLIST(A1)','C02199V02655','C02076V02508','UNIT','Statistic Label','VALUE'], axis = 1, inplace = True)"
   ]
  },
  {
   "cell_type": "code",
   "execution_count": null,
   "id": "4803214a",
   "metadata": {},
   "outputs": [],
   "source": [
    "demographic_data.head()"
   ]
  },
  {
   "cell_type": "code",
   "execution_count": null,
   "id": "e5ff4359",
   "metadata": {},
   "outputs": [],
   "source": [
    "# Forward fill and Backward fill\n",
    "demographic_data.fillna(method='ffill', inplace=True)  \n",
    "demographic_data.fillna(method='bfill', inplace=True) "
   ]
  },
  {
   "cell_type": "code",
   "execution_count": null,
   "id": "c43630aa",
   "metadata": {},
   "outputs": [],
   "source": [
    "demographic_data.interpolate(method='linear', inplace=True)"
   ]
  },
  {
   "cell_type": "code",
   "execution_count": null,
   "id": "e1cdcf5b",
   "metadata": {},
   "outputs": [],
   "source": [
    "pd.set_option('display.max_rows', None)\n",
    "print(demographic_data)"
   ]
  },
  {
   "cell_type": "code",
   "execution_count": null,
   "id": "8296de41",
   "metadata": {},
   "outputs": [],
   "source": [
    "demographic_data.columns"
   ]
  },
  {
   "cell_type": "code",
   "execution_count": null,
   "id": "45692f6b",
   "metadata": {},
   "outputs": [],
   "source": [
    "total_lines = len(demographic_data)\n",
    "print(\"Total lines of data:\", total_lines)"
   ]
  },
  {
   "cell_type": "markdown",
   "id": "7cccf24d",
   "metadata": {},
   "source": [
    "# Preparing the Third dataset: weather_data"
   ]
  },
  {
   "cell_type": "code",
   "execution_count": null,
   "id": "3acbcfc1",
   "metadata": {},
   "outputs": [],
   "source": [
    "weather_data.head()"
   ]
  },
  {
   "cell_type": "code",
   "execution_count": null,
   "id": "67c7c5a7",
   "metadata": {},
   "outputs": [],
   "source": [
    "# Renaming columns\n",
    "weather_data.rename(columns={'ind': 'Indicator', 'rain': 'Rain(mm)','maxt':'Temperature(c)','soil':'Soil'}, inplace=True)"
   ]
  },
  {
   "cell_type": "code",
   "execution_count": null,
   "id": "1a7f19f3",
   "metadata": {},
   "outputs": [],
   "source": [
    "weather_data.drop(['ind.1','ind.2','mint','gmin','Soil','Indicator','Temperature(c)'], axis = 1, inplace = True)"
   ]
  },
  {
   "cell_type": "code",
   "execution_count": null,
   "id": "35219cde",
   "metadata": {},
   "outputs": [],
   "source": [
    "weather_data.columns"
   ]
  },
  {
   "cell_type": "code",
   "execution_count": null,
   "id": "e847b07e",
   "metadata": {},
   "outputs": [],
   "source": [
    "# Converting date column to datetime format\n",
    "weather_data['date'] = pd.to_datetime(weather_data['date'], format='%d-%b-%y')"
   ]
  },
  {
   "cell_type": "code",
   "execution_count": null,
   "id": "3fc64f16",
   "metadata": {},
   "outputs": [],
   "source": [
    "start_date = pd.to_datetime('1941-01-01')\n",
    "end_date = pd.to_datetime('2023-05-31')"
   ]
  },
  {
   "cell_type": "code",
   "execution_count": null,
   "id": "0de99ff1",
   "metadata": {},
   "outputs": [],
   "source": [
    "weather_data = weather_data[(weather_data['date'] >= start_date) & (weather_data['date'] <= end_date)]"
   ]
  },
  {
   "cell_type": "code",
   "execution_count": null,
   "id": "4ab0fe9d",
   "metadata": {},
   "outputs": [],
   "source": [
    "total_lines = len(weather_data)\n",
    "print(\"Total lines of data:\", total_lines)"
   ]
  },
  {
   "cell_type": "code",
   "execution_count": null,
   "id": "ff82f45f",
   "metadata": {},
   "outputs": [],
   "source": [
    "for column in [\"Rain(mm)\"]:\n",
    "    weather_data[column] = weather_data.groupby('date')[column].transform(\n",
    "        lambda x: x.fillna(np.random.choice(x.dropna()))\n",
    "    )"
   ]
  },
  {
   "cell_type": "code",
   "execution_count": null,
   "id": "234239ec",
   "metadata": {
    "scrolled": true
   },
   "outputs": [],
   "source": [
    "pd.set_option('display.max_rows', None)\n",
    "print(weather_data)"
   ]
  },
  {
   "cell_type": "code",
   "execution_count": null,
   "id": "26b7f388",
   "metadata": {
    "scrolled": true
   },
   "outputs": [],
   "source": [
    "# Set the date column as the DataFrame index\n",
    "weather_data.set_index('date', inplace=True)\n",
    "\n",
    "# Resample the data to a weekly frequency and calculate the sum of 'Rain(mm)' for each week\n",
    "weekly_weather_data = weather_data.resample('W').sum()\n",
    "\n",
    "# Reset the index to make 'date' a column again\n",
    "weekly_weather_data.reset_index(inplace=True)\n",
    "\n",
    "# Print the resulting DataFrame\n",
    "print(weekly_weather_data)"
   ]
  },
  {
   "cell_type": "code",
   "execution_count": null,
   "id": "d71ea696",
   "metadata": {},
   "outputs": [],
   "source": [
    "total_lines = len(weekly_weather_data)\n",
    "print(\"Total lines of data:\", total_lines)"
   ]
  },
  {
   "cell_type": "code",
   "execution_count": null,
   "id": "267635af",
   "metadata": {},
   "outputs": [],
   "source": [
    "weather_data.columns"
   ]
  },
  {
   "cell_type": "code",
   "execution_count": null,
   "id": "aebc1c2f",
   "metadata": {},
   "outputs": [],
   "source": [
    "start_date = '2019-01-06'\n",
    "end_date = '2023-06-04'"
   ]
  },
  {
   "cell_type": "code",
   "execution_count": null,
   "id": "334548f6",
   "metadata": {},
   "outputs": [],
   "source": [
    "filtered_weather_data = weekly_weather_data[(weekly_weather_data['date'] >= start_date) & (weekly_weather_data['date'] <= end_date)]"
   ]
  },
  {
   "cell_type": "code",
   "execution_count": null,
   "id": "bbd2b0b2",
   "metadata": {},
   "outputs": [],
   "source": [
    "pd.set_option('display.max_rows', None)\n",
    "print(filtered_weather_data)"
   ]
  },
  {
   "cell_type": "code",
   "execution_count": null,
   "id": "786eae66",
   "metadata": {},
   "outputs": [],
   "source": [
    "total_lines = len(filtered_weather_data)\n",
    "print(\"Total lines of data:\", total_lines)"
   ]
  },
  {
   "cell_type": "code",
   "execution_count": null,
   "id": "af6f5234",
   "metadata": {},
   "outputs": [],
   "source": [
    "demand_data['Date'] = pd.to_datetime(demand_data['Date'])\n",
    "filtered_weather_data['date'] = pd.to_datetime(filtered_weather_data['date'])\n",
    "#Creating a merged Dataframe \n",
    "merged_data = pd.merge(demand_data, filtered_weather_data, left_on='Date', right_on='date', how='left')\n",
    "merged_data.drop(columns=['date'], inplace=True)\n",
    "# Creating a copy of filtered_weather_data to perform resampling\n",
    "filtered_weather_data_copy = filtered_weather_data.copy()\n",
    "filtered_weather_data_copy.set_index('date', inplace=True)\n",
    "# Resampling the Rain column in the copied weather dataset to weekly and calculated the mean\n",
    "filtered_weather_data_copy['Rain(mm)'] = filtered_weather_data_copy['Rain(mm)'].resample('W').mean()\n",
    "# Fill missing values in the Rain(mm) column with the corresponding weekly mean\n",
    "merged_data['Rain(mm)'] = merged_data['Date'].apply(\n",
    "    lambda x: filtered_weather_data_copy.loc[filtered_weather_data_copy.index.week == x.isocalendar().week, 'Rain(mm)'].values[0]\n",
    "    if not pd.isna(x) else x\n",
    ")"
   ]
  },
  {
   "cell_type": "code",
   "execution_count": null,
   "id": "287e5348",
   "metadata": {},
   "outputs": [],
   "source": [
    "pd.set_option('display.max_rows', None)\n",
    "print(merged_data)"
   ]
  },
  {
   "cell_type": "code",
   "execution_count": null,
   "id": "1f6c29d0",
   "metadata": {},
   "outputs": [],
   "source": [
    "merged_data.drop(columns=['Statistic Label'], inplace=True)"
   ]
  },
  {
   "cell_type": "code",
   "execution_count": null,
   "id": "64a98502",
   "metadata": {},
   "outputs": [],
   "source": [
    "total_lines = len(merged_data)\n",
    "print(\"Total lines of data:\", total_lines)"
   ]
  },
  {
   "cell_type": "code",
   "execution_count": null,
   "id": "8b416367",
   "metadata": {},
   "outputs": [],
   "source": [
    "pd.set_option('display.max_rows', None)\n",
    "print(merged_data)"
   ]
  }
 ],
 "metadata": {
  "kernelspec": {
   "display_name": "Python 3 (ipykernel)",
   "language": "python",
   "name": "python3"
  },
  "language_info": {
   "codemirror_mode": {
    "name": "ipython",
    "version": 3
   },
   "file_extension": ".py",
   "mimetype": "text/x-python",
   "name": "python",
   "nbconvert_exporter": "python",
   "pygments_lexer": "ipython3",
   "version": "3.10.9"
  }
 },
 "nbformat": 4,
 "nbformat_minor": 5
}
